{
 "cells": [
  {
   "cell_type": "markdown",
   "id": "aeecfa38",
   "metadata": {},
   "source": [
    "# Lending Club\n",
    "\n",
    "### Problem Statement\n",
    "\n",
    "A bank institution is interested in knowing if they clients applying for a loan will deferred or not.\n",
    "\n",
    "### Dataset\n",
    "\n",
    "The dataset is based in information gathered in clients that were granted a loan and consecuently they were classified as 'Fully paid' for not defaulted clients, 'Current' for individuals that are in the process of paying and 'Charged-off' for those who has not paid the installments in due time for a long period of time.\n",
    "\n",
    "### Familiarization\n",
    "\n",
    "First step in data analysis is to be familiarized with the dataset, understanding the metadata file because that contains all the variable names and their description which is important to deduct information from the variables and perform a good approach to solving the problem.\n",
    "\n",
    "The following is a extract of the metadata file:"
   ]
  },
  {
   "cell_type": "markdown",
   "id": "f234f8a0",
   "metadata": {},
   "source": [
    "#### Import the necessary libraries"
   ]
  },
  {
   "cell_type": "code",
   "execution_count": 59,
   "id": "11bd83a0",
   "metadata": {},
   "outputs": [],
   "source": [
    "import pandas as pd\n",
    "import numpy as np\n",
    "import seaborn as sns\n",
    "import matplotlib.pyplot as plt"
   ]
  },
  {
   "cell_type": "code",
   "execution_count": 60,
   "id": "50ee56b2",
   "metadata": {},
   "outputs": [
    {
     "data": {
      "text/html": [
       "<div>\n",
       "<style scoped>\n",
       "    .dataframe tbody tr th:only-of-type {\n",
       "        vertical-align: middle;\n",
       "    }\n",
       "\n",
       "    .dataframe tbody tr th {\n",
       "        vertical-align: top;\n",
       "    }\n",
       "\n",
       "    .dataframe thead th {\n",
       "        text-align: right;\n",
       "    }\n",
       "</style>\n",
       "<table border=\"1\" class=\"dataframe\">\n",
       "  <thead>\n",
       "    <tr style=\"text-align: right;\">\n",
       "      <th></th>\n",
       "      <th>LoanStatNew</th>\n",
       "      <th>Description</th>\n",
       "    </tr>\n",
       "  </thead>\n",
       "  <tbody>\n",
       "    <tr>\n",
       "      <th>0</th>\n",
       "      <td>acc_now_delinq</td>\n",
       "      <td>The number of accounts on which the borrower i...</td>\n",
       "    </tr>\n",
       "    <tr>\n",
       "      <th>1</th>\n",
       "      <td>acc_open_past_24mths</td>\n",
       "      <td>Number of trades opened in past 24 months.</td>\n",
       "    </tr>\n",
       "    <tr>\n",
       "      <th>2</th>\n",
       "      <td>addr_state</td>\n",
       "      <td>The state provided by the borrower in the loan...</td>\n",
       "    </tr>\n",
       "    <tr>\n",
       "      <th>3</th>\n",
       "      <td>all_util</td>\n",
       "      <td>Balance to credit limit on all trades</td>\n",
       "    </tr>\n",
       "    <tr>\n",
       "      <th>4</th>\n",
       "      <td>annual_inc</td>\n",
       "      <td>The self-reported annual income provided by th...</td>\n",
       "    </tr>\n",
       "    <tr>\n",
       "      <th>5</th>\n",
       "      <td>annual_inc_joint</td>\n",
       "      <td>The combined self-reported annual income provi...</td>\n",
       "    </tr>\n",
       "    <tr>\n",
       "      <th>6</th>\n",
       "      <td>application_type</td>\n",
       "      <td>Indicates whether the loan is an individual ap...</td>\n",
       "    </tr>\n",
       "    <tr>\n",
       "      <th>7</th>\n",
       "      <td>avg_cur_bal</td>\n",
       "      <td>Average current balance of all accounts</td>\n",
       "    </tr>\n",
       "    <tr>\n",
       "      <th>8</th>\n",
       "      <td>bc_open_to_buy</td>\n",
       "      <td>Total open to buy on revolving bankcards.</td>\n",
       "    </tr>\n",
       "    <tr>\n",
       "      <th>9</th>\n",
       "      <td>bc_util</td>\n",
       "      <td>Ratio of total current balance to high credit/...</td>\n",
       "    </tr>\n",
       "  </tbody>\n",
       "</table>\n",
       "</div>"
      ],
      "text/plain": [
       "            LoanStatNew                                        Description\n",
       "0        acc_now_delinq  The number of accounts on which the borrower i...\n",
       "1  acc_open_past_24mths         Number of trades opened in past 24 months.\n",
       "2            addr_state  The state provided by the borrower in the loan...\n",
       "3              all_util              Balance to credit limit on all trades\n",
       "4            annual_inc  The self-reported annual income provided by th...\n",
       "5      annual_inc_joint  The combined self-reported annual income provi...\n",
       "6      application_type  Indicates whether the loan is an individual ap...\n",
       "7           avg_cur_bal            Average current balance of all accounts\n",
       "8        bc_open_to_buy          Total open to buy on revolving bankcards.\n",
       "9               bc_util  Ratio of total current balance to high credit/..."
      ]
     },
     "execution_count": 60,
     "metadata": {},
     "output_type": "execute_result"
    }
   ],
   "source": [
    "#Now reading the metadata file and print some lines as example of how the file look like\n",
    "metadata = pd.read_excel('Data_dictionary.xlsx',usecols=[0,1])\n",
    "metadata = metadata.dropna()\n",
    "metadata.head(10)"
   ]
  },
  {
   "cell_type": "code",
   "execution_count": 61,
   "id": "446ad3fc",
   "metadata": {},
   "outputs": [
    {
     "name": "stdout",
     "output_type": "stream",
     "text": [
      "<class 'pandas.core.frame.DataFrame'>\n",
      "Int64Index: 115 entries, 0 to 114\n",
      "Data columns (total 2 columns):\n",
      " #   Column       Non-Null Count  Dtype \n",
      "---  ------       --------------  ----- \n",
      " 0   LoanStatNew  115 non-null    object\n",
      " 1   Description  115 non-null    object\n",
      "dtypes: object(2)\n",
      "memory usage: 2.7+ KB\n"
     ]
    }
   ],
   "source": [
    "#with the following command, let's explore how many columns our dataset has\n",
    "metadata.info()"
   ]
  },
  {
   "cell_type": "markdown",
   "id": "c60070a8",
   "metadata": {},
   "source": [
    "#### Load the csv file and check shape, head to have a glance of the data"
   ]
  },
  {
   "cell_type": "code",
   "execution_count": 62,
   "id": "005c2df0",
   "metadata": {},
   "outputs": [
    {
     "data": {
      "text/plain": [
       "(39717, 111)"
      ]
     },
     "execution_count": 62,
     "metadata": {},
     "output_type": "execute_result"
    }
   ],
   "source": [
    "pd.options.display.max_rows = 20\n",
    "pd.options.display.max_columns = 111\n",
    "df = pd.read_csv(\"loan.csv\", low_memory=False)\n",
    "df.shape"
   ]
  },
  {
   "cell_type": "markdown",
   "id": "1f9378d7",
   "metadata": {},
   "source": [
    "First to notice after looking at the metadata and the dataset is the inconsistency in the number of columns. Metadata showed 115, while dataset shows just 111. Then, let's find what features are not included in the dataset"
   ]
  },
  {
   "cell_type": "code",
   "execution_count": 63,
   "id": "a18d2ae0",
   "metadata": {},
   "outputs": [
    {
     "data": {
      "text/plain": [
       "['fico_range_high',\n",
       " 'fico_range_low',\n",
       " 'last_fico_range_high',\n",
       " 'last_fico_range_low',\n",
       " 'total_rev_hi_lim \\xa0',\n",
       " 'verified_status_joint']"
      ]
     },
     "execution_count": 63,
     "metadata": {},
     "output_type": "execute_result"
    }
   ],
   "source": [
    "mismatched_columns = [i for i in metadata['LoanStatNew'] if i not in df]\n",
    "mismatched_columns "
   ]
  },
  {
   "cell_type": "markdown",
   "id": "a3efa1a0",
   "metadata": {},
   "source": [
    "#### Glance the data set"
   ]
  },
  {
   "cell_type": "code",
   "execution_count": 64,
   "id": "ead7e430",
   "metadata": {},
   "outputs": [
    {
     "data": {
      "text/html": [
       "<div>\n",
       "<style scoped>\n",
       "    .dataframe tbody tr th:only-of-type {\n",
       "        vertical-align: middle;\n",
       "    }\n",
       "\n",
       "    .dataframe tbody tr th {\n",
       "        vertical-align: top;\n",
       "    }\n",
       "\n",
       "    .dataframe thead th {\n",
       "        text-align: right;\n",
       "    }\n",
       "</style>\n",
       "<table border=\"1\" class=\"dataframe\">\n",
       "  <thead>\n",
       "    <tr style=\"text-align: right;\">\n",
       "      <th></th>\n",
       "      <th>id</th>\n",
       "      <th>member_id</th>\n",
       "      <th>loan_amnt</th>\n",
       "      <th>funded_amnt</th>\n",
       "      <th>funded_amnt_inv</th>\n",
       "      <th>term</th>\n",
       "      <th>int_rate</th>\n",
       "      <th>installment</th>\n",
       "      <th>grade</th>\n",
       "      <th>sub_grade</th>\n",
       "      <th>emp_title</th>\n",
       "      <th>emp_length</th>\n",
       "      <th>home_ownership</th>\n",
       "      <th>annual_inc</th>\n",
       "      <th>verification_status</th>\n",
       "      <th>issue_d</th>\n",
       "      <th>loan_status</th>\n",
       "      <th>pymnt_plan</th>\n",
       "      <th>url</th>\n",
       "      <th>desc</th>\n",
       "      <th>purpose</th>\n",
       "      <th>title</th>\n",
       "      <th>zip_code</th>\n",
       "      <th>addr_state</th>\n",
       "      <th>dti</th>\n",
       "      <th>delinq_2yrs</th>\n",
       "      <th>earliest_cr_line</th>\n",
       "      <th>inq_last_6mths</th>\n",
       "      <th>mths_since_last_delinq</th>\n",
       "      <th>mths_since_last_record</th>\n",
       "      <th>open_acc</th>\n",
       "      <th>pub_rec</th>\n",
       "      <th>revol_bal</th>\n",
       "      <th>revol_util</th>\n",
       "      <th>total_acc</th>\n",
       "      <th>initial_list_status</th>\n",
       "      <th>out_prncp</th>\n",
       "      <th>out_prncp_inv</th>\n",
       "      <th>total_pymnt</th>\n",
       "      <th>total_pymnt_inv</th>\n",
       "      <th>total_rec_prncp</th>\n",
       "      <th>total_rec_int</th>\n",
       "      <th>total_rec_late_fee</th>\n",
       "      <th>recoveries</th>\n",
       "      <th>collection_recovery_fee</th>\n",
       "      <th>last_pymnt_d</th>\n",
       "      <th>last_pymnt_amnt</th>\n",
       "      <th>next_pymnt_d</th>\n",
       "      <th>last_credit_pull_d</th>\n",
       "      <th>collections_12_mths_ex_med</th>\n",
       "      <th>mths_since_last_major_derog</th>\n",
       "      <th>policy_code</th>\n",
       "      <th>application_type</th>\n",
       "      <th>annual_inc_joint</th>\n",
       "      <th>dti_joint</th>\n",
       "      <th>verification_status_joint</th>\n",
       "      <th>acc_now_delinq</th>\n",
       "      <th>tot_coll_amt</th>\n",
       "      <th>tot_cur_bal</th>\n",
       "      <th>open_acc_6m</th>\n",
       "      <th>open_il_6m</th>\n",
       "      <th>open_il_12m</th>\n",
       "      <th>open_il_24m</th>\n",
       "      <th>mths_since_rcnt_il</th>\n",
       "      <th>total_bal_il</th>\n",
       "      <th>il_util</th>\n",
       "      <th>open_rv_12m</th>\n",
       "      <th>open_rv_24m</th>\n",
       "      <th>max_bal_bc</th>\n",
       "      <th>all_util</th>\n",
       "      <th>total_rev_hi_lim</th>\n",
       "      <th>inq_fi</th>\n",
       "      <th>total_cu_tl</th>\n",
       "      <th>inq_last_12m</th>\n",
       "      <th>acc_open_past_24mths</th>\n",
       "      <th>avg_cur_bal</th>\n",
       "      <th>bc_open_to_buy</th>\n",
       "      <th>bc_util</th>\n",
       "      <th>chargeoff_within_12_mths</th>\n",
       "      <th>delinq_amnt</th>\n",
       "      <th>mo_sin_old_il_acct</th>\n",
       "      <th>mo_sin_old_rev_tl_op</th>\n",
       "      <th>mo_sin_rcnt_rev_tl_op</th>\n",
       "      <th>mo_sin_rcnt_tl</th>\n",
       "      <th>mort_acc</th>\n",
       "      <th>mths_since_recent_bc</th>\n",
       "      <th>mths_since_recent_bc_dlq</th>\n",
       "      <th>mths_since_recent_inq</th>\n",
       "      <th>mths_since_recent_revol_delinq</th>\n",
       "      <th>num_accts_ever_120_pd</th>\n",
       "      <th>num_actv_bc_tl</th>\n",
       "      <th>num_actv_rev_tl</th>\n",
       "      <th>num_bc_sats</th>\n",
       "      <th>num_bc_tl</th>\n",
       "      <th>num_il_tl</th>\n",
       "      <th>num_op_rev_tl</th>\n",
       "      <th>num_rev_accts</th>\n",
       "      <th>num_rev_tl_bal_gt_0</th>\n",
       "      <th>num_sats</th>\n",
       "      <th>num_tl_120dpd_2m</th>\n",
       "      <th>num_tl_30dpd</th>\n",
       "      <th>num_tl_90g_dpd_24m</th>\n",
       "      <th>num_tl_op_past_12m</th>\n",
       "      <th>pct_tl_nvr_dlq</th>\n",
       "      <th>percent_bc_gt_75</th>\n",
       "      <th>pub_rec_bankruptcies</th>\n",
       "      <th>tax_liens</th>\n",
       "      <th>tot_hi_cred_lim</th>\n",
       "      <th>total_bal_ex_mort</th>\n",
       "      <th>total_bc_limit</th>\n",
       "      <th>total_il_high_credit_limit</th>\n",
       "    </tr>\n",
       "  </thead>\n",
       "  <tbody>\n",
       "    <tr>\n",
       "      <th>0</th>\n",
       "      <td>1077501</td>\n",
       "      <td>1296599</td>\n",
       "      <td>5000</td>\n",
       "      <td>5000</td>\n",
       "      <td>4975.0</td>\n",
       "      <td>36 months</td>\n",
       "      <td>10.65%</td>\n",
       "      <td>162.87</td>\n",
       "      <td>B</td>\n",
       "      <td>B2</td>\n",
       "      <td>NaN</td>\n",
       "      <td>10+ years</td>\n",
       "      <td>RENT</td>\n",
       "      <td>24000.0</td>\n",
       "      <td>Verified</td>\n",
       "      <td>Dec-11</td>\n",
       "      <td>Fully Paid</td>\n",
       "      <td>n</td>\n",
       "      <td>https://lendingclub.com/browse/loanDetail.acti...</td>\n",
       "      <td>Borrower added on 12/22/11 &gt; I need to upgra...</td>\n",
       "      <td>credit_card</td>\n",
       "      <td>Computer</td>\n",
       "      <td>860xx</td>\n",
       "      <td>AZ</td>\n",
       "      <td>27.65</td>\n",
       "      <td>0</td>\n",
       "      <td>Jan-85</td>\n",
       "      <td>1</td>\n",
       "      <td>NaN</td>\n",
       "      <td>NaN</td>\n",
       "      <td>3</td>\n",
       "      <td>0</td>\n",
       "      <td>13648</td>\n",
       "      <td>83.70%</td>\n",
       "      <td>9</td>\n",
       "      <td>f</td>\n",
       "      <td>0.0</td>\n",
       "      <td>0.0</td>\n",
       "      <td>5863.155187</td>\n",
       "      <td>5833.84</td>\n",
       "      <td>5000.00</td>\n",
       "      <td>863.16</td>\n",
       "      <td>0.0</td>\n",
       "      <td>0.00</td>\n",
       "      <td>0.00</td>\n",
       "      <td>Jan-15</td>\n",
       "      <td>171.62</td>\n",
       "      <td>NaN</td>\n",
       "      <td>May-16</td>\n",
       "      <td>0.0</td>\n",
       "      <td>NaN</td>\n",
       "      <td>1</td>\n",
       "      <td>INDIVIDUAL</td>\n",
       "      <td>NaN</td>\n",
       "      <td>NaN</td>\n",
       "      <td>NaN</td>\n",
       "      <td>0</td>\n",
       "      <td>NaN</td>\n",
       "      <td>NaN</td>\n",
       "      <td>NaN</td>\n",
       "      <td>NaN</td>\n",
       "      <td>NaN</td>\n",
       "      <td>NaN</td>\n",
       "      <td>NaN</td>\n",
       "      <td>NaN</td>\n",
       "      <td>NaN</td>\n",
       "      <td>NaN</td>\n",
       "      <td>NaN</td>\n",
       "      <td>NaN</td>\n",
       "      <td>NaN</td>\n",
       "      <td>NaN</td>\n",
       "      <td>NaN</td>\n",
       "      <td>NaN</td>\n",
       "      <td>NaN</td>\n",
       "      <td>NaN</td>\n",
       "      <td>NaN</td>\n",
       "      <td>NaN</td>\n",
       "      <td>NaN</td>\n",
       "      <td>0.0</td>\n",
       "      <td>0</td>\n",
       "      <td>NaN</td>\n",
       "      <td>NaN</td>\n",
       "      <td>NaN</td>\n",
       "      <td>NaN</td>\n",
       "      <td>NaN</td>\n",
       "      <td>NaN</td>\n",
       "      <td>NaN</td>\n",
       "      <td>NaN</td>\n",
       "      <td>NaN</td>\n",
       "      <td>NaN</td>\n",
       "      <td>NaN</td>\n",
       "      <td>NaN</td>\n",
       "      <td>NaN</td>\n",
       "      <td>NaN</td>\n",
       "      <td>NaN</td>\n",
       "      <td>NaN</td>\n",
       "      <td>NaN</td>\n",
       "      <td>NaN</td>\n",
       "      <td>NaN</td>\n",
       "      <td>NaN</td>\n",
       "      <td>NaN</td>\n",
       "      <td>NaN</td>\n",
       "      <td>NaN</td>\n",
       "      <td>NaN</td>\n",
       "      <td>NaN</td>\n",
       "      <td>0.0</td>\n",
       "      <td>0.0</td>\n",
       "      <td>NaN</td>\n",
       "      <td>NaN</td>\n",
       "      <td>NaN</td>\n",
       "      <td>NaN</td>\n",
       "    </tr>\n",
       "    <tr>\n",
       "      <th>1</th>\n",
       "      <td>1077430</td>\n",
       "      <td>1314167</td>\n",
       "      <td>2500</td>\n",
       "      <td>2500</td>\n",
       "      <td>2500.0</td>\n",
       "      <td>60 months</td>\n",
       "      <td>15.27%</td>\n",
       "      <td>59.83</td>\n",
       "      <td>C</td>\n",
       "      <td>C4</td>\n",
       "      <td>Ryder</td>\n",
       "      <td>&lt; 1 year</td>\n",
       "      <td>RENT</td>\n",
       "      <td>30000.0</td>\n",
       "      <td>Source Verified</td>\n",
       "      <td>Dec-11</td>\n",
       "      <td>Charged Off</td>\n",
       "      <td>n</td>\n",
       "      <td>https://lendingclub.com/browse/loanDetail.acti...</td>\n",
       "      <td>Borrower added on 12/22/11 &gt; I plan to use t...</td>\n",
       "      <td>car</td>\n",
       "      <td>bike</td>\n",
       "      <td>309xx</td>\n",
       "      <td>GA</td>\n",
       "      <td>1.00</td>\n",
       "      <td>0</td>\n",
       "      <td>Apr-99</td>\n",
       "      <td>5</td>\n",
       "      <td>NaN</td>\n",
       "      <td>NaN</td>\n",
       "      <td>3</td>\n",
       "      <td>0</td>\n",
       "      <td>1687</td>\n",
       "      <td>9.40%</td>\n",
       "      <td>4</td>\n",
       "      <td>f</td>\n",
       "      <td>0.0</td>\n",
       "      <td>0.0</td>\n",
       "      <td>1008.710000</td>\n",
       "      <td>1008.71</td>\n",
       "      <td>456.46</td>\n",
       "      <td>435.17</td>\n",
       "      <td>0.0</td>\n",
       "      <td>117.08</td>\n",
       "      <td>1.11</td>\n",
       "      <td>Apr-13</td>\n",
       "      <td>119.66</td>\n",
       "      <td>NaN</td>\n",
       "      <td>Sep-13</td>\n",
       "      <td>0.0</td>\n",
       "      <td>NaN</td>\n",
       "      <td>1</td>\n",
       "      <td>INDIVIDUAL</td>\n",
       "      <td>NaN</td>\n",
       "      <td>NaN</td>\n",
       "      <td>NaN</td>\n",
       "      <td>0</td>\n",
       "      <td>NaN</td>\n",
       "      <td>NaN</td>\n",
       "      <td>NaN</td>\n",
       "      <td>NaN</td>\n",
       "      <td>NaN</td>\n",
       "      <td>NaN</td>\n",
       "      <td>NaN</td>\n",
       "      <td>NaN</td>\n",
       "      <td>NaN</td>\n",
       "      <td>NaN</td>\n",
       "      <td>NaN</td>\n",
       "      <td>NaN</td>\n",
       "      <td>NaN</td>\n",
       "      <td>NaN</td>\n",
       "      <td>NaN</td>\n",
       "      <td>NaN</td>\n",
       "      <td>NaN</td>\n",
       "      <td>NaN</td>\n",
       "      <td>NaN</td>\n",
       "      <td>NaN</td>\n",
       "      <td>NaN</td>\n",
       "      <td>0.0</td>\n",
       "      <td>0</td>\n",
       "      <td>NaN</td>\n",
       "      <td>NaN</td>\n",
       "      <td>NaN</td>\n",
       "      <td>NaN</td>\n",
       "      <td>NaN</td>\n",
       "      <td>NaN</td>\n",
       "      <td>NaN</td>\n",
       "      <td>NaN</td>\n",
       "      <td>NaN</td>\n",
       "      <td>NaN</td>\n",
       "      <td>NaN</td>\n",
       "      <td>NaN</td>\n",
       "      <td>NaN</td>\n",
       "      <td>NaN</td>\n",
       "      <td>NaN</td>\n",
       "      <td>NaN</td>\n",
       "      <td>NaN</td>\n",
       "      <td>NaN</td>\n",
       "      <td>NaN</td>\n",
       "      <td>NaN</td>\n",
       "      <td>NaN</td>\n",
       "      <td>NaN</td>\n",
       "      <td>NaN</td>\n",
       "      <td>NaN</td>\n",
       "      <td>NaN</td>\n",
       "      <td>0.0</td>\n",
       "      <td>0.0</td>\n",
       "      <td>NaN</td>\n",
       "      <td>NaN</td>\n",
       "      <td>NaN</td>\n",
       "      <td>NaN</td>\n",
       "    </tr>\n",
       "    <tr>\n",
       "      <th>2</th>\n",
       "      <td>1077175</td>\n",
       "      <td>1313524</td>\n",
       "      <td>2400</td>\n",
       "      <td>2400</td>\n",
       "      <td>2400.0</td>\n",
       "      <td>36 months</td>\n",
       "      <td>15.96%</td>\n",
       "      <td>84.33</td>\n",
       "      <td>C</td>\n",
       "      <td>C5</td>\n",
       "      <td>NaN</td>\n",
       "      <td>10+ years</td>\n",
       "      <td>RENT</td>\n",
       "      <td>12252.0</td>\n",
       "      <td>Not Verified</td>\n",
       "      <td>Dec-11</td>\n",
       "      <td>Fully Paid</td>\n",
       "      <td>n</td>\n",
       "      <td>https://lendingclub.com/browse/loanDetail.acti...</td>\n",
       "      <td>NaN</td>\n",
       "      <td>small_business</td>\n",
       "      <td>real estate business</td>\n",
       "      <td>606xx</td>\n",
       "      <td>IL</td>\n",
       "      <td>8.72</td>\n",
       "      <td>0</td>\n",
       "      <td>Nov-01</td>\n",
       "      <td>2</td>\n",
       "      <td>NaN</td>\n",
       "      <td>NaN</td>\n",
       "      <td>2</td>\n",
       "      <td>0</td>\n",
       "      <td>2956</td>\n",
       "      <td>98.50%</td>\n",
       "      <td>10</td>\n",
       "      <td>f</td>\n",
       "      <td>0.0</td>\n",
       "      <td>0.0</td>\n",
       "      <td>3005.666844</td>\n",
       "      <td>3005.67</td>\n",
       "      <td>2400.00</td>\n",
       "      <td>605.67</td>\n",
       "      <td>0.0</td>\n",
       "      <td>0.00</td>\n",
       "      <td>0.00</td>\n",
       "      <td>Jun-14</td>\n",
       "      <td>649.91</td>\n",
       "      <td>NaN</td>\n",
       "      <td>May-16</td>\n",
       "      <td>0.0</td>\n",
       "      <td>NaN</td>\n",
       "      <td>1</td>\n",
       "      <td>INDIVIDUAL</td>\n",
       "      <td>NaN</td>\n",
       "      <td>NaN</td>\n",
       "      <td>NaN</td>\n",
       "      <td>0</td>\n",
       "      <td>NaN</td>\n",
       "      <td>NaN</td>\n",
       "      <td>NaN</td>\n",
       "      <td>NaN</td>\n",
       "      <td>NaN</td>\n",
       "      <td>NaN</td>\n",
       "      <td>NaN</td>\n",
       "      <td>NaN</td>\n",
       "      <td>NaN</td>\n",
       "      <td>NaN</td>\n",
       "      <td>NaN</td>\n",
       "      <td>NaN</td>\n",
       "      <td>NaN</td>\n",
       "      <td>NaN</td>\n",
       "      <td>NaN</td>\n",
       "      <td>NaN</td>\n",
       "      <td>NaN</td>\n",
       "      <td>NaN</td>\n",
       "      <td>NaN</td>\n",
       "      <td>NaN</td>\n",
       "      <td>NaN</td>\n",
       "      <td>0.0</td>\n",
       "      <td>0</td>\n",
       "      <td>NaN</td>\n",
       "      <td>NaN</td>\n",
       "      <td>NaN</td>\n",
       "      <td>NaN</td>\n",
       "      <td>NaN</td>\n",
       "      <td>NaN</td>\n",
       "      <td>NaN</td>\n",
       "      <td>NaN</td>\n",
       "      <td>NaN</td>\n",
       "      <td>NaN</td>\n",
       "      <td>NaN</td>\n",
       "      <td>NaN</td>\n",
       "      <td>NaN</td>\n",
       "      <td>NaN</td>\n",
       "      <td>NaN</td>\n",
       "      <td>NaN</td>\n",
       "      <td>NaN</td>\n",
       "      <td>NaN</td>\n",
       "      <td>NaN</td>\n",
       "      <td>NaN</td>\n",
       "      <td>NaN</td>\n",
       "      <td>NaN</td>\n",
       "      <td>NaN</td>\n",
       "      <td>NaN</td>\n",
       "      <td>NaN</td>\n",
       "      <td>0.0</td>\n",
       "      <td>0.0</td>\n",
       "      <td>NaN</td>\n",
       "      <td>NaN</td>\n",
       "      <td>NaN</td>\n",
       "      <td>NaN</td>\n",
       "    </tr>\n",
       "  </tbody>\n",
       "</table>\n",
       "</div>"
      ],
      "text/plain": [
       "        id  member_id  loan_amnt  funded_amnt  funded_amnt_inv        term  \\\n",
       "0  1077501    1296599       5000         5000           4975.0   36 months   \n",
       "1  1077430    1314167       2500         2500           2500.0   60 months   \n",
       "2  1077175    1313524       2400         2400           2400.0   36 months   \n",
       "\n",
       "  int_rate  installment grade sub_grade emp_title emp_length home_ownership  \\\n",
       "0   10.65%       162.87     B        B2       NaN  10+ years           RENT   \n",
       "1   15.27%        59.83     C        C4     Ryder   < 1 year           RENT   \n",
       "2   15.96%        84.33     C        C5       NaN  10+ years           RENT   \n",
       "\n",
       "   annual_inc verification_status issue_d  loan_status pymnt_plan  \\\n",
       "0     24000.0            Verified  Dec-11   Fully Paid          n   \n",
       "1     30000.0     Source Verified  Dec-11  Charged Off          n   \n",
       "2     12252.0        Not Verified  Dec-11   Fully Paid          n   \n",
       "\n",
       "                                                 url  \\\n",
       "0  https://lendingclub.com/browse/loanDetail.acti...   \n",
       "1  https://lendingclub.com/browse/loanDetail.acti...   \n",
       "2  https://lendingclub.com/browse/loanDetail.acti...   \n",
       "\n",
       "                                                desc         purpose  \\\n",
       "0    Borrower added on 12/22/11 > I need to upgra...     credit_card   \n",
       "1    Borrower added on 12/22/11 > I plan to use t...             car   \n",
       "2                                                NaN  small_business   \n",
       "\n",
       "                  title zip_code addr_state    dti  delinq_2yrs  \\\n",
       "0              Computer    860xx         AZ  27.65            0   \n",
       "1                  bike    309xx         GA   1.00            0   \n",
       "2  real estate business    606xx         IL   8.72            0   \n",
       "\n",
       "  earliest_cr_line  inq_last_6mths  mths_since_last_delinq  \\\n",
       "0           Jan-85               1                     NaN   \n",
       "1           Apr-99               5                     NaN   \n",
       "2           Nov-01               2                     NaN   \n",
       "\n",
       "   mths_since_last_record  open_acc  pub_rec  revol_bal revol_util  total_acc  \\\n",
       "0                     NaN         3        0      13648     83.70%          9   \n",
       "1                     NaN         3        0       1687      9.40%          4   \n",
       "2                     NaN         2        0       2956     98.50%         10   \n",
       "\n",
       "  initial_list_status  out_prncp  out_prncp_inv  total_pymnt  total_pymnt_inv  \\\n",
       "0                   f        0.0            0.0  5863.155187          5833.84   \n",
       "1                   f        0.0            0.0  1008.710000          1008.71   \n",
       "2                   f        0.0            0.0  3005.666844          3005.67   \n",
       "\n",
       "   total_rec_prncp  total_rec_int  total_rec_late_fee  recoveries  \\\n",
       "0          5000.00         863.16                 0.0        0.00   \n",
       "1           456.46         435.17                 0.0      117.08   \n",
       "2          2400.00         605.67                 0.0        0.00   \n",
       "\n",
       "   collection_recovery_fee last_pymnt_d  last_pymnt_amnt next_pymnt_d  \\\n",
       "0                     0.00       Jan-15           171.62          NaN   \n",
       "1                     1.11       Apr-13           119.66          NaN   \n",
       "2                     0.00       Jun-14           649.91          NaN   \n",
       "\n",
       "  last_credit_pull_d  collections_12_mths_ex_med  mths_since_last_major_derog  \\\n",
       "0             May-16                         0.0                          NaN   \n",
       "1             Sep-13                         0.0                          NaN   \n",
       "2             May-16                         0.0                          NaN   \n",
       "\n",
       "   policy_code application_type  annual_inc_joint  dti_joint  \\\n",
       "0            1       INDIVIDUAL               NaN        NaN   \n",
       "1            1       INDIVIDUAL               NaN        NaN   \n",
       "2            1       INDIVIDUAL               NaN        NaN   \n",
       "\n",
       "   verification_status_joint  acc_now_delinq  tot_coll_amt  tot_cur_bal  \\\n",
       "0                        NaN               0           NaN          NaN   \n",
       "1                        NaN               0           NaN          NaN   \n",
       "2                        NaN               0           NaN          NaN   \n",
       "\n",
       "   open_acc_6m  open_il_6m  open_il_12m  open_il_24m  mths_since_rcnt_il  \\\n",
       "0          NaN         NaN          NaN          NaN                 NaN   \n",
       "1          NaN         NaN          NaN          NaN                 NaN   \n",
       "2          NaN         NaN          NaN          NaN                 NaN   \n",
       "\n",
       "   total_bal_il  il_util  open_rv_12m  open_rv_24m  max_bal_bc  all_util  \\\n",
       "0           NaN      NaN          NaN          NaN         NaN       NaN   \n",
       "1           NaN      NaN          NaN          NaN         NaN       NaN   \n",
       "2           NaN      NaN          NaN          NaN         NaN       NaN   \n",
       "\n",
       "   total_rev_hi_lim  inq_fi  total_cu_tl  inq_last_12m  acc_open_past_24mths  \\\n",
       "0               NaN     NaN          NaN           NaN                   NaN   \n",
       "1               NaN     NaN          NaN           NaN                   NaN   \n",
       "2               NaN     NaN          NaN           NaN                   NaN   \n",
       "\n",
       "   avg_cur_bal  bc_open_to_buy  bc_util  chargeoff_within_12_mths  \\\n",
       "0          NaN             NaN      NaN                       0.0   \n",
       "1          NaN             NaN      NaN                       0.0   \n",
       "2          NaN             NaN      NaN                       0.0   \n",
       "\n",
       "   delinq_amnt  mo_sin_old_il_acct  mo_sin_old_rev_tl_op  \\\n",
       "0            0                 NaN                   NaN   \n",
       "1            0                 NaN                   NaN   \n",
       "2            0                 NaN                   NaN   \n",
       "\n",
       "   mo_sin_rcnt_rev_tl_op  mo_sin_rcnt_tl  mort_acc  mths_since_recent_bc  \\\n",
       "0                    NaN             NaN       NaN                   NaN   \n",
       "1                    NaN             NaN       NaN                   NaN   \n",
       "2                    NaN             NaN       NaN                   NaN   \n",
       "\n",
       "   mths_since_recent_bc_dlq  mths_since_recent_inq  \\\n",
       "0                       NaN                    NaN   \n",
       "1                       NaN                    NaN   \n",
       "2                       NaN                    NaN   \n",
       "\n",
       "   mths_since_recent_revol_delinq  num_accts_ever_120_pd  num_actv_bc_tl  \\\n",
       "0                             NaN                    NaN             NaN   \n",
       "1                             NaN                    NaN             NaN   \n",
       "2                             NaN                    NaN             NaN   \n",
       "\n",
       "   num_actv_rev_tl  num_bc_sats  num_bc_tl  num_il_tl  num_op_rev_tl  \\\n",
       "0              NaN          NaN        NaN        NaN            NaN   \n",
       "1              NaN          NaN        NaN        NaN            NaN   \n",
       "2              NaN          NaN        NaN        NaN            NaN   \n",
       "\n",
       "   num_rev_accts  num_rev_tl_bal_gt_0  num_sats  num_tl_120dpd_2m  \\\n",
       "0            NaN                  NaN       NaN               NaN   \n",
       "1            NaN                  NaN       NaN               NaN   \n",
       "2            NaN                  NaN       NaN               NaN   \n",
       "\n",
       "   num_tl_30dpd  num_tl_90g_dpd_24m  num_tl_op_past_12m  pct_tl_nvr_dlq  \\\n",
       "0           NaN                 NaN                 NaN             NaN   \n",
       "1           NaN                 NaN                 NaN             NaN   \n",
       "2           NaN                 NaN                 NaN             NaN   \n",
       "\n",
       "   percent_bc_gt_75  pub_rec_bankruptcies  tax_liens  tot_hi_cred_lim  \\\n",
       "0               NaN                   0.0        0.0              NaN   \n",
       "1               NaN                   0.0        0.0              NaN   \n",
       "2               NaN                   0.0        0.0              NaN   \n",
       "\n",
       "   total_bal_ex_mort  total_bc_limit  total_il_high_credit_limit  \n",
       "0                NaN             NaN                         NaN  \n",
       "1                NaN             NaN                         NaN  \n",
       "2                NaN             NaN                         NaN  "
      ]
     },
     "execution_count": 64,
     "metadata": {},
     "output_type": "execute_result"
    }
   ],
   "source": [
    "#Data set glance\n",
    "df.head(3)"
   ]
  },
  {
   "cell_type": "code",
   "execution_count": 65,
   "id": "2792fff0",
   "metadata": {},
   "outputs": [
    {
     "data": {
      "text/plain": [
       "(39717, 111)"
      ]
     },
     "execution_count": 65,
     "metadata": {},
     "output_type": "execute_result"
    }
   ],
   "source": [
    "df.shape"
   ]
  },
  {
   "cell_type": "markdown",
   "id": "fc774518",
   "metadata": {},
   "source": [
    "### Data Cleaning\n",
    "##### 1. Find the columns with 40% + Nan Values. Analyze and drop if needed\n",
    "##### 2. Find columns with no/ very low/very high unique values. Analyze and drop if needed\n",
    "##### 3. Find all rows with 40% + Nan values. Analyze and drop them if needed"
   ]
  },
  {
   "cell_type": "code",
   "execution_count": 66,
   "id": "3f4b0a1c",
   "metadata": {},
   "outputs": [
    {
     "data": {
      "text/plain": [
       "id                              0.0\n",
       "earliest_cr_line                0.0\n",
       "inq_last_6mths                  0.0\n",
       "open_acc                        0.0\n",
       "pub_rec                         0.0\n",
       "                              ...  \n",
       "avg_cur_bal                   100.0\n",
       "bc_open_to_buy                100.0\n",
       "bc_util                       100.0\n",
       "mo_sin_old_rev_tl_op          100.0\n",
       "total_il_high_credit_limit    100.0\n",
       "Length: 111, dtype: float64"
      ]
     },
     "execution_count": 66,
     "metadata": {},
     "output_type": "execute_result"
    }
   ],
   "source": [
    "#find the % of NAN n each column\n",
    "df.isna().sum().sort_values()/df.shape[0] * 100\n"
   ]
  },
  {
   "cell_type": "code",
   "execution_count": 67,
   "id": "d7716151",
   "metadata": {},
   "outputs": [
    {
     "data": {
      "text/plain": [
       "Index(['mths_since_last_delinq', 'mths_since_last_record', 'next_pymnt_d',\n",
       "       'mths_since_last_major_derog', 'annual_inc_joint', 'dti_joint',\n",
       "       'verification_status_joint', 'tot_coll_amt', 'tot_cur_bal',\n",
       "       'open_acc_6m', 'open_il_6m', 'open_il_12m', 'open_il_24m',\n",
       "       'mths_since_rcnt_il', 'total_bal_il', 'il_util', 'open_rv_12m',\n",
       "       'open_rv_24m', 'max_bal_bc', 'all_util', 'total_rev_hi_lim', 'inq_fi',\n",
       "       'total_cu_tl', 'inq_last_12m', 'acc_open_past_24mths', 'avg_cur_bal',\n",
       "       'bc_open_to_buy', 'bc_util', 'mo_sin_old_il_acct',\n",
       "       'mo_sin_old_rev_tl_op', 'mo_sin_rcnt_rev_tl_op', 'mo_sin_rcnt_tl',\n",
       "       'mort_acc', 'mths_since_recent_bc', 'mths_since_recent_bc_dlq',\n",
       "       'mths_since_recent_inq', 'mths_since_recent_revol_delinq',\n",
       "       'num_accts_ever_120_pd', 'num_actv_bc_tl', 'num_actv_rev_tl',\n",
       "       'num_bc_sats', 'num_bc_tl', 'num_il_tl', 'num_op_rev_tl',\n",
       "       'num_rev_accts', 'num_rev_tl_bal_gt_0', 'num_sats', 'num_tl_120dpd_2m',\n",
       "       'num_tl_30dpd', 'num_tl_90g_dpd_24m', 'num_tl_op_past_12m',\n",
       "       'pct_tl_nvr_dlq', 'percent_bc_gt_75', 'tot_hi_cred_lim',\n",
       "       'total_bal_ex_mort', 'total_bc_limit', 'total_il_high_credit_limit'],\n",
       "      dtype='object')"
      ]
     },
     "execution_count": 67,
     "metadata": {},
     "output_type": "execute_result"
    }
   ],
   "source": [
    "#Find columns with more than 40% of Null values\n",
    "df.columns[df.isna().sum() > 0.40*df.shape[0]]"
   ]
  },
  {
   "cell_type": "code",
   "execution_count": 68,
   "id": "fa167993",
   "metadata": {},
   "outputs": [],
   "source": [
    "#Drop columns with more than 40% null values\n",
    "df_after_dropped_cols = df.drop(columns=['mths_since_last_delinq', 'mths_since_last_record', 'next_pymnt_d',\n",
    "       'mths_since_last_major_derog', 'annual_inc_joint', 'dti_joint',\n",
    "       'verification_status_joint', 'tot_coll_amt', 'tot_cur_bal',\n",
    "       'open_acc_6m', 'open_il_6m', 'open_il_12m', 'open_il_24m',\n",
    "       'mths_since_rcnt_il', 'total_bal_il', 'il_util', 'open_rv_12m',\n",
    "       'open_rv_24m', 'max_bal_bc', 'all_util', 'total_rev_hi_lim', 'inq_fi',\n",
    "       'total_cu_tl', 'inq_last_12m', 'acc_open_past_24mths', 'avg_cur_bal',\n",
    "       'bc_open_to_buy', 'bc_util', 'mo_sin_old_il_acct',\n",
    "       'mo_sin_old_rev_tl_op', 'mo_sin_rcnt_rev_tl_op', 'mo_sin_rcnt_tl',\n",
    "       'mort_acc', 'mths_since_recent_bc', 'mths_since_recent_bc_dlq',\n",
    "       'mths_since_recent_inq', 'mths_since_recent_revol_delinq',\n",
    "       'num_accts_ever_120_pd', 'num_actv_bc_tl', 'num_actv_rev_tl',\n",
    "       'num_bc_sats', 'num_bc_tl', 'num_il_tl', 'num_op_rev_tl',\n",
    "       'num_rev_accts', 'num_rev_tl_bal_gt_0', 'num_sats', 'num_tl_120dpd_2m',\n",
    "       'num_tl_30dpd', 'num_tl_90g_dpd_24m', 'num_tl_op_past_12m',\n",
    "       'pct_tl_nvr_dlq', 'percent_bc_gt_75', 'tot_hi_cred_lim',\n",
    "       'total_bal_ex_mort', 'total_bc_limit', 'total_il_high_credit_limit'])"
   ]
  },
  {
   "cell_type": "markdown",
   "id": "deb1a8df",
   "metadata": {},
   "source": [
    "##### Based on below analysis following columns can be dropped\n",
    "\n",
    "- Desc\n",
    "- url\n",
    "- tax_liens\n",
    "- delinq_amnt\n",
    "- chargeoff_within_12_mths\n",
    "- acc_now_delinq\n",
    "- application_type\n",
    "- policy_code\n",
    "- collections_12_mths_ex_med\n",
    "- initial_list_status\n",
    "- pymnt_plan\n",
    "- member_id\n",
    "- id\n",
    "- grade\n",
    "- emp_title\n",
    "- last_pymnt_d\n",
    "- last_pymnt_amnt\n",
    "- last_credit_pull_d"
   ]
  },
  {
   "cell_type": "code",
   "execution_count": 69,
   "id": "c6ace053",
   "metadata": {},
   "outputs": [
    {
     "data": {
      "text/plain": [
       "(39717, 54)"
      ]
     },
     "execution_count": 69,
     "metadata": {},
     "output_type": "execute_result"
    }
   ],
   "source": [
    "#New shape after dropping the columns\n",
    "df_after_dropped_cols.shape"
   ]
  },
  {
   "cell_type": "code",
   "execution_count": 70,
   "id": "15cb8a87",
   "metadata": {},
   "outputs": [
    {
     "data": {
      "text/plain": [
       "title                            11\n",
       "tax_liens                        39\n",
       "revol_util                       50\n",
       "collections_12_mths_ex_med       56\n",
       "chargeoff_within_12_mths         56\n",
       "last_pymnt_d                     71\n",
       "pub_rec_bankruptcies            697\n",
       "emp_length                     1075\n",
       "emp_title                      2459\n",
       "desc                          12940\n",
       "dtype: int64"
      ]
     },
     "execution_count": 70,
     "metadata": {},
     "output_type": "execute_result"
    }
   ],
   "source": [
    "#columns with NA \n",
    "df_after_dropped_cols.isna().sum().sort_values().tail(10)"
   ]
  },
  {
   "cell_type": "code",
   "execution_count": 71,
   "id": "6b949d0f",
   "metadata": {
    "scrolled": true
   },
   "outputs": [
    {
     "data": {
      "text/plain": [
       "  Borrower added on 07/25/11 > I will be using this loan for a major household purchase to include furniture. I have a good track record paying back loans to include my car and student loans.<br/>                                                                                                                                                                                                                                                                                                                                                                                                                                                                                                                                                                                                                                                                                                                                         1\n",
       "  Borrower added on 09/08/11 > Thank you to the investors who have already helped me to get nearer my goal!  I hope others will join and get me all the way there!  Like so many Americans, I have accumulated debt due to a bit of unemployment a number of years ago followed by underemployment.  Now, thankfully, I am in a position to work towards reducing and ultimately eliminating that debt.  I am timely with my payments, earn a good income in a solid industry and company and are committed to my responsibilities.  I appreciate this peer to peer lending as many of those entities who funded the debt are making it difficult to get out of it.  Thank you!<br/> Borrower added on 09/08/11 > I am not seeking additional debt but a sound way to combine and quickly reduce/eliminate debt.  Thanks to Lending Club and the lenders for making what I thought was impossible (through banks, etc)...possible!<br/>      1\n",
       "  Borrower added on 04/27/11 > I'm a successful, self-employed music teacher... the only catch is that I didn't realize last year that I needed to be making estimated tax payments, so now I'm really behind with the IRS!  This loan will help me make the IRS happy immediately, while making my payments fit easily into my monthly budget (which the IRS' payment plans would not allow).  I look forward to making my estimated payments from now on so I'm never in this position again!<br/><br/>I love that I'll be paying interest into your pocket, instead of giving it all to some evil bank. Thank you for considering my loan.<br/>                                                                                                                                                                                                                                                                                           1\n",
       "  Borrower added on 07/29/11 > I am trying to eliminate the last of my college credit card debt that I racked up attaining my masters degree.  This loan will lower my interest rate and help me pay off the debt faster.  Thanks for your consideration<br/>null                                                                                                                                                                                                                                                                                                                                                                                                                                                                                                                                                                                                                                                                            1\n",
       "  Borrower added on 02/08/11 > home improvement,never late on bills,40 hours a week<br/> Borrower added on 02/09/11 > HOME IMPROVEMENT,NEVER LATE ON BILLS,WORK A FULL 40 HOUR A WEEK,TWO INCOME HOME,$3500 MONTHLY INCOME ONLY $1500 IN BILLS<br/>                                                                                                                                                                                                                                                                                                                                                                                                                                                                                                                                                                                                                                                                                          1\n",
       "                                                                                                                                                                                                                                                                                                                                                                                                                                                                                                                                                                                                                                                                                                                                                                                                                                                                                                                                          ... \n",
       "credit card consolidation                                                                                                                                                                                                                                                                                                                                                                                                                                                                                                                                                                                                                                                                                                                                                                                                                                                                                                                    3\n",
       "personal loan                                                                                                                                                                                                                                                                                                                                                                                                                                                                                                                                                                                                                                                                                                                                                                                                                                                                                                                                3\n",
       "Camping Membership                                                                                                                                                                                                                                                                                                                                                                                                                                                                                                                                                                                                                                                                                                                                                                                                                                                                                                                           6\n",
       "Debt Consolidation                                                                                                                                                                                                                                                                                                                                                                                                                                                                                                                                                                                                                                                                                                                                                                                                                                                                                                                           8\n",
       "                                                                                                                                                                                                                                                                                                                                                                                                                                                                                                                                                                                                                                                                                                                                                                                                                                                                                                                                           210\n",
       "Name: desc, Length: 26527, dtype: int64"
      ]
     },
     "execution_count": 71,
     "metadata": {},
     "output_type": "execute_result"
    }
   ],
   "source": [
    "#Let's Analyze the Desc column . It's just the description and not in formatted way so can be dropped\n",
    "df_after_dropped_cols.desc.value_counts().sort_values()"
   ]
  },
  {
   "cell_type": "code",
   "execution_count": 72,
   "id": "617c0050",
   "metadata": {},
   "outputs": [
    {
     "data": {
      "text/plain": [
       "39717"
      ]
     },
     "execution_count": 72,
     "metadata": {},
     "output_type": "execute_result"
    }
   ],
   "source": [
    "#Let's Analyze the url column. URL column is unique for every record and no relevant for study, \n",
    "#so can be dropped\n",
    "\n",
    "df.url.nunique()"
   ]
  },
  {
   "cell_type": "code",
   "execution_count": 73,
   "id": "a658f9ad",
   "metadata": {},
   "outputs": [],
   "source": [
    "#Let's drop the url and desc column because description is just some added strings and url is unique \n",
    "#per record and won't be needed for analysis\n",
    "\n",
    "df_after_dropped_cols = df_after_dropped_cols.drop(columns=[\"desc\",\"url\"])"
   ]
  },
  {
   "cell_type": "code",
   "execution_count": 74,
   "id": "b597c9cd",
   "metadata": {
    "scrolled": true
   },
   "outputs": [
    {
     "data": {
      "text/plain": [
       "id                          [1077501, 1077430, 1077175, 1076863, 1075358, ...\n",
       "member_id                   [1296599, 1314167, 1313524, 1277178, 1311748, ...\n",
       "loan_amnt                   [5000, 2500, 2400, 10000, 3000, 7000, 5600, 53...\n",
       "funded_amnt                 [5000, 2500, 2400, 10000, 3000, 7000, 5600, 53...\n",
       "funded_amnt_inv             [4975.0, 2500.0, 2400.0, 10000.0, 3000.0, 5000...\n",
       "                                                  ...                        \n",
       "acc_now_delinq                                                            [0]\n",
       "chargeoff_within_12_mths                                           [0.0, nan]\n",
       "delinq_amnt                                                               [0]\n",
       "pub_rec_bankruptcies                                     [0.0, 1.0, 2.0, nan]\n",
       "tax_liens                                                          [0.0, nan]\n",
       "Length: 52, dtype: object"
      ]
     },
     "execution_count": 74,
     "metadata": {},
     "output_type": "execute_result"
    }
   ],
   "source": [
    "pd.Series({col:df[col].unique() for col in df_after_dropped_cols})"
   ]
  },
  {
   "cell_type": "code",
   "execution_count": 75,
   "id": "275bd8e2",
   "metadata": {},
   "outputs": [],
   "source": [
    "#drop these rows as the values are either same or nan. Member id and id can be dropped \n",
    "#as these are just identifier and won't be helpful in making insights\n",
    "#['tax_liens', 'delinq_amnt', 'chargeoff_within_12_mths', 'acc_now_delinq',  'application_type', \n",
    "#'policy_code', 'collections_12_mths_ex_med', 'initial_list_status', 'pymnt_plan', 'member_id', 'id']\n",
    "\n",
    "df_after_dropped_cols = df_after_dropped_cols.drop(columns= ['tax_liens', 'delinq_amnt', 'chargeoff_within_12_mths', 'acc_now_delinq',  'application_type', 'policy_code', 'collections_12_mths_ex_med', 'initial_list_status', 'pymnt_plan', 'member_id', 'id', 'sub_grade', 'emp_title', 'last_pymnt_d', 'last_pymnt_amnt', 'last_credit_pull_d']\n",
    ")\n"
   ]
  },
  {
   "cell_type": "code",
   "execution_count": 76,
   "id": "db8a13a4",
   "metadata": {},
   "outputs": [],
   "source": [
    "#terms is in month let's convert to numeric and remove string \"months\" to make analysis easier\n",
    "df_after_dropped_cols[\"term\"] = df_after_dropped_cols.term.apply(lambda x: x.split(\" \")[1]).astype('int64')"
   ]
  },
  {
   "cell_type": "code",
   "execution_count": 77,
   "id": "71bea259",
   "metadata": {},
   "outputs": [],
   "source": [
    "#int_rate is in % let's convert to float and remove string \"%\"\n",
    "df_after_dropped_cols.int_rate=df_after_dropped_cols.int_rate.apply(lambda x: x[:-1]).astype('float64')"
   ]
  },
  {
   "cell_type": "code",
   "execution_count": 78,
   "id": "de8e1830",
   "metadata": {},
   "outputs": [],
   "source": [
    "#For a better visualization of the column emp_length, its type is change it to str\n",
    "\n",
    "df_after_dropped_cols['emp_length'] = df_after_dropped_cols['emp_length'].apply(lambda x: str(x))"
   ]
  },
  {
   "cell_type": "code",
   "execution_count": 79,
   "id": "f0340a20",
   "metadata": {},
   "outputs": [
    {
     "data": {
      "text/plain": [
       "(39717, 36)"
      ]
     },
     "execution_count": 79,
     "metadata": {},
     "output_type": "execute_result"
    }
   ],
   "source": [
    "df_after_dropped_cols.shape"
   ]
  },
  {
   "cell_type": "code",
   "execution_count": 80,
   "id": "6d8d72da",
   "metadata": {
    "scrolled": true
   },
   "outputs": [
    {
     "data": {
      "text/html": [
       "<div>\n",
       "<style scoped>\n",
       "    .dataframe tbody tr th:only-of-type {\n",
       "        vertical-align: middle;\n",
       "    }\n",
       "\n",
       "    .dataframe tbody tr th {\n",
       "        vertical-align: top;\n",
       "    }\n",
       "\n",
       "    .dataframe thead th {\n",
       "        text-align: right;\n",
       "    }\n",
       "</style>\n",
       "<table border=\"1\" class=\"dataframe\">\n",
       "  <thead>\n",
       "    <tr style=\"text-align: right;\">\n",
       "      <th></th>\n",
       "      <th>loan_amnt</th>\n",
       "      <th>funded_amnt</th>\n",
       "      <th>funded_amnt_inv</th>\n",
       "      <th>term</th>\n",
       "      <th>int_rate</th>\n",
       "      <th>installment</th>\n",
       "      <th>annual_inc</th>\n",
       "      <th>dti</th>\n",
       "      <th>delinq_2yrs</th>\n",
       "      <th>inq_last_6mths</th>\n",
       "      <th>open_acc</th>\n",
       "      <th>pub_rec</th>\n",
       "      <th>revol_bal</th>\n",
       "      <th>total_acc</th>\n",
       "      <th>out_prncp</th>\n",
       "      <th>out_prncp_inv</th>\n",
       "      <th>total_pymnt</th>\n",
       "      <th>total_pymnt_inv</th>\n",
       "      <th>total_rec_prncp</th>\n",
       "      <th>total_rec_int</th>\n",
       "      <th>total_rec_late_fee</th>\n",
       "      <th>recoveries</th>\n",
       "      <th>collection_recovery_fee</th>\n",
       "      <th>pub_rec_bankruptcies</th>\n",
       "    </tr>\n",
       "  </thead>\n",
       "  <tbody>\n",
       "    <tr>\n",
       "      <th>count</th>\n",
       "      <td>39717.000000</td>\n",
       "      <td>39717.000000</td>\n",
       "      <td>39717.000000</td>\n",
       "      <td>39717.000000</td>\n",
       "      <td>39717.000000</td>\n",
       "      <td>39717.000000</td>\n",
       "      <td>3.971700e+04</td>\n",
       "      <td>39717.000000</td>\n",
       "      <td>39717.000000</td>\n",
       "      <td>39717.000000</td>\n",
       "      <td>39717.000000</td>\n",
       "      <td>39717.000000</td>\n",
       "      <td>39717.000000</td>\n",
       "      <td>39717.000000</td>\n",
       "      <td>39717.000000</td>\n",
       "      <td>39717.000000</td>\n",
       "      <td>39717.000000</td>\n",
       "      <td>39717.000000</td>\n",
       "      <td>39717.000000</td>\n",
       "      <td>39717.000000</td>\n",
       "      <td>39717.000000</td>\n",
       "      <td>39717.000000</td>\n",
       "      <td>39717.000000</td>\n",
       "      <td>39020.000000</td>\n",
       "    </tr>\n",
       "    <tr>\n",
       "      <th>mean</th>\n",
       "      <td>11219.443815</td>\n",
       "      <td>10947.713196</td>\n",
       "      <td>10397.448868</td>\n",
       "      <td>42.418007</td>\n",
       "      <td>12.021177</td>\n",
       "      <td>324.561922</td>\n",
       "      <td>6.896893e+04</td>\n",
       "      <td>13.315130</td>\n",
       "      <td>0.146512</td>\n",
       "      <td>0.869200</td>\n",
       "      <td>9.294408</td>\n",
       "      <td>0.055065</td>\n",
       "      <td>13382.528086</td>\n",
       "      <td>22.088828</td>\n",
       "      <td>51.227887</td>\n",
       "      <td>50.989768</td>\n",
       "      <td>12153.596544</td>\n",
       "      <td>11567.149118</td>\n",
       "      <td>9793.348813</td>\n",
       "      <td>2263.663172</td>\n",
       "      <td>1.363015</td>\n",
       "      <td>95.221624</td>\n",
       "      <td>12.406112</td>\n",
       "      <td>0.043260</td>\n",
       "    </tr>\n",
       "    <tr>\n",
       "      <th>std</th>\n",
       "      <td>7456.670694</td>\n",
       "      <td>7187.238670</td>\n",
       "      <td>7128.450439</td>\n",
       "      <td>10.622815</td>\n",
       "      <td>3.724825</td>\n",
       "      <td>208.874874</td>\n",
       "      <td>6.379377e+04</td>\n",
       "      <td>6.678594</td>\n",
       "      <td>0.491812</td>\n",
       "      <td>1.070219</td>\n",
       "      <td>4.400282</td>\n",
       "      <td>0.237200</td>\n",
       "      <td>15885.016641</td>\n",
       "      <td>11.401709</td>\n",
       "      <td>375.172839</td>\n",
       "      <td>373.824457</td>\n",
       "      <td>9042.040766</td>\n",
       "      <td>8942.672613</td>\n",
       "      <td>7065.522127</td>\n",
       "      <td>2608.111964</td>\n",
       "      <td>7.289979</td>\n",
       "      <td>688.744771</td>\n",
       "      <td>148.671593</td>\n",
       "      <td>0.204324</td>\n",
       "    </tr>\n",
       "    <tr>\n",
       "      <th>min</th>\n",
       "      <td>500.000000</td>\n",
       "      <td>500.000000</td>\n",
       "      <td>0.000000</td>\n",
       "      <td>36.000000</td>\n",
       "      <td>5.420000</td>\n",
       "      <td>15.690000</td>\n",
       "      <td>4.000000e+03</td>\n",
       "      <td>0.000000</td>\n",
       "      <td>0.000000</td>\n",
       "      <td>0.000000</td>\n",
       "      <td>2.000000</td>\n",
       "      <td>0.000000</td>\n",
       "      <td>0.000000</td>\n",
       "      <td>2.000000</td>\n",
       "      <td>0.000000</td>\n",
       "      <td>0.000000</td>\n",
       "      <td>0.000000</td>\n",
       "      <td>0.000000</td>\n",
       "      <td>0.000000</td>\n",
       "      <td>0.000000</td>\n",
       "      <td>0.000000</td>\n",
       "      <td>0.000000</td>\n",
       "      <td>0.000000</td>\n",
       "      <td>0.000000</td>\n",
       "    </tr>\n",
       "    <tr>\n",
       "      <th>25%</th>\n",
       "      <td>5500.000000</td>\n",
       "      <td>5400.000000</td>\n",
       "      <td>5000.000000</td>\n",
       "      <td>36.000000</td>\n",
       "      <td>9.250000</td>\n",
       "      <td>167.020000</td>\n",
       "      <td>4.040400e+04</td>\n",
       "      <td>8.170000</td>\n",
       "      <td>0.000000</td>\n",
       "      <td>0.000000</td>\n",
       "      <td>6.000000</td>\n",
       "      <td>0.000000</td>\n",
       "      <td>3703.000000</td>\n",
       "      <td>13.000000</td>\n",
       "      <td>0.000000</td>\n",
       "      <td>0.000000</td>\n",
       "      <td>5576.930000</td>\n",
       "      <td>5112.310000</td>\n",
       "      <td>4600.000000</td>\n",
       "      <td>662.180000</td>\n",
       "      <td>0.000000</td>\n",
       "      <td>0.000000</td>\n",
       "      <td>0.000000</td>\n",
       "      <td>0.000000</td>\n",
       "    </tr>\n",
       "    <tr>\n",
       "      <th>50%</th>\n",
       "      <td>10000.000000</td>\n",
       "      <td>9600.000000</td>\n",
       "      <td>8975.000000</td>\n",
       "      <td>36.000000</td>\n",
       "      <td>11.860000</td>\n",
       "      <td>280.220000</td>\n",
       "      <td>5.900000e+04</td>\n",
       "      <td>13.400000</td>\n",
       "      <td>0.000000</td>\n",
       "      <td>1.000000</td>\n",
       "      <td>9.000000</td>\n",
       "      <td>0.000000</td>\n",
       "      <td>8850.000000</td>\n",
       "      <td>20.000000</td>\n",
       "      <td>0.000000</td>\n",
       "      <td>0.000000</td>\n",
       "      <td>9899.640319</td>\n",
       "      <td>9287.150000</td>\n",
       "      <td>8000.000000</td>\n",
       "      <td>1348.910000</td>\n",
       "      <td>0.000000</td>\n",
       "      <td>0.000000</td>\n",
       "      <td>0.000000</td>\n",
       "      <td>0.000000</td>\n",
       "    </tr>\n",
       "    <tr>\n",
       "      <th>75%</th>\n",
       "      <td>15000.000000</td>\n",
       "      <td>15000.000000</td>\n",
       "      <td>14400.000000</td>\n",
       "      <td>60.000000</td>\n",
       "      <td>14.590000</td>\n",
       "      <td>430.780000</td>\n",
       "      <td>8.230000e+04</td>\n",
       "      <td>18.600000</td>\n",
       "      <td>0.000000</td>\n",
       "      <td>1.000000</td>\n",
       "      <td>12.000000</td>\n",
       "      <td>0.000000</td>\n",
       "      <td>17058.000000</td>\n",
       "      <td>29.000000</td>\n",
       "      <td>0.000000</td>\n",
       "      <td>0.000000</td>\n",
       "      <td>16534.433040</td>\n",
       "      <td>15798.810000</td>\n",
       "      <td>13653.260000</td>\n",
       "      <td>2833.400000</td>\n",
       "      <td>0.000000</td>\n",
       "      <td>0.000000</td>\n",
       "      <td>0.000000</td>\n",
       "      <td>0.000000</td>\n",
       "    </tr>\n",
       "    <tr>\n",
       "      <th>max</th>\n",
       "      <td>35000.000000</td>\n",
       "      <td>35000.000000</td>\n",
       "      <td>35000.000000</td>\n",
       "      <td>60.000000</td>\n",
       "      <td>24.590000</td>\n",
       "      <td>1305.190000</td>\n",
       "      <td>6.000000e+06</td>\n",
       "      <td>29.990000</td>\n",
       "      <td>11.000000</td>\n",
       "      <td>8.000000</td>\n",
       "      <td>44.000000</td>\n",
       "      <td>4.000000</td>\n",
       "      <td>149588.000000</td>\n",
       "      <td>90.000000</td>\n",
       "      <td>6311.470000</td>\n",
       "      <td>6307.370000</td>\n",
       "      <td>58563.679930</td>\n",
       "      <td>58563.680000</td>\n",
       "      <td>35000.020000</td>\n",
       "      <td>23563.680000</td>\n",
       "      <td>180.200000</td>\n",
       "      <td>29623.350000</td>\n",
       "      <td>7002.190000</td>\n",
       "      <td>2.000000</td>\n",
       "    </tr>\n",
       "  </tbody>\n",
       "</table>\n",
       "</div>"
      ],
      "text/plain": [
       "          loan_amnt   funded_amnt  funded_amnt_inv          term  \\\n",
       "count  39717.000000  39717.000000     39717.000000  39717.000000   \n",
       "mean   11219.443815  10947.713196     10397.448868     42.418007   \n",
       "std     7456.670694   7187.238670      7128.450439     10.622815   \n",
       "min      500.000000    500.000000         0.000000     36.000000   \n",
       "25%     5500.000000   5400.000000      5000.000000     36.000000   \n",
       "50%    10000.000000   9600.000000      8975.000000     36.000000   \n",
       "75%    15000.000000  15000.000000     14400.000000     60.000000   \n",
       "max    35000.000000  35000.000000     35000.000000     60.000000   \n",
       "\n",
       "           int_rate   installment    annual_inc           dti   delinq_2yrs  \\\n",
       "count  39717.000000  39717.000000  3.971700e+04  39717.000000  39717.000000   \n",
       "mean      12.021177    324.561922  6.896893e+04     13.315130      0.146512   \n",
       "std        3.724825    208.874874  6.379377e+04      6.678594      0.491812   \n",
       "min        5.420000     15.690000  4.000000e+03      0.000000      0.000000   \n",
       "25%        9.250000    167.020000  4.040400e+04      8.170000      0.000000   \n",
       "50%       11.860000    280.220000  5.900000e+04     13.400000      0.000000   \n",
       "75%       14.590000    430.780000  8.230000e+04     18.600000      0.000000   \n",
       "max       24.590000   1305.190000  6.000000e+06     29.990000     11.000000   \n",
       "\n",
       "       inq_last_6mths      open_acc       pub_rec      revol_bal  \\\n",
       "count    39717.000000  39717.000000  39717.000000   39717.000000   \n",
       "mean         0.869200      9.294408      0.055065   13382.528086   \n",
       "std          1.070219      4.400282      0.237200   15885.016641   \n",
       "min          0.000000      2.000000      0.000000       0.000000   \n",
       "25%          0.000000      6.000000      0.000000    3703.000000   \n",
       "50%          1.000000      9.000000      0.000000    8850.000000   \n",
       "75%          1.000000     12.000000      0.000000   17058.000000   \n",
       "max          8.000000     44.000000      4.000000  149588.000000   \n",
       "\n",
       "          total_acc     out_prncp  out_prncp_inv   total_pymnt  \\\n",
       "count  39717.000000  39717.000000   39717.000000  39717.000000   \n",
       "mean      22.088828     51.227887      50.989768  12153.596544   \n",
       "std       11.401709    375.172839     373.824457   9042.040766   \n",
       "min        2.000000      0.000000       0.000000      0.000000   \n",
       "25%       13.000000      0.000000       0.000000   5576.930000   \n",
       "50%       20.000000      0.000000       0.000000   9899.640319   \n",
       "75%       29.000000      0.000000       0.000000  16534.433040   \n",
       "max       90.000000   6311.470000    6307.370000  58563.679930   \n",
       "\n",
       "       total_pymnt_inv  total_rec_prncp  total_rec_int  total_rec_late_fee  \\\n",
       "count     39717.000000     39717.000000   39717.000000        39717.000000   \n",
       "mean      11567.149118      9793.348813    2263.663172            1.363015   \n",
       "std        8942.672613      7065.522127    2608.111964            7.289979   \n",
       "min           0.000000         0.000000       0.000000            0.000000   \n",
       "25%        5112.310000      4600.000000     662.180000            0.000000   \n",
       "50%        9287.150000      8000.000000    1348.910000            0.000000   \n",
       "75%       15798.810000     13653.260000    2833.400000            0.000000   \n",
       "max       58563.680000     35000.020000   23563.680000          180.200000   \n",
       "\n",
       "         recoveries  collection_recovery_fee  pub_rec_bankruptcies  \n",
       "count  39717.000000             39717.000000          39020.000000  \n",
       "mean      95.221624                12.406112              0.043260  \n",
       "std      688.744771               148.671593              0.204324  \n",
       "min        0.000000                 0.000000              0.000000  \n",
       "25%        0.000000                 0.000000              0.000000  \n",
       "50%        0.000000                 0.000000              0.000000  \n",
       "75%        0.000000                 0.000000              0.000000  \n",
       "max    29623.350000              7002.190000              2.000000  "
      ]
     },
     "execution_count": 80,
     "metadata": {},
     "output_type": "execute_result"
    }
   ],
   "source": [
    "df_after_dropped_cols.describe()"
   ]
  },
  {
   "cell_type": "markdown",
   "id": "7fd9f1cb",
   "metadata": {},
   "source": [
    "#### Drop the columns with high > 0.9 correlation matrix"
   ]
  },
  {
   "cell_type": "code",
   "execution_count": 81,
   "id": "db48125a",
   "metadata": {},
   "outputs": [
    {
     "data": {
      "text/plain": [
       "pub_rec               open_acc                0.000172\n",
       "open_acc              pub_rec                 0.000172\n",
       "total_pymnt_inv       total_rec_late_fee      0.000796\n",
       "total_rec_late_fee    total_pymnt_inv         0.000796\n",
       "dti                   inq_last_6mths          0.001405\n",
       "                                                ...   \n",
       "total_rec_prncp       total_rec_prncp         1.000000\n",
       "total_rec_int         total_rec_int           1.000000\n",
       "total_rec_late_fee    total_rec_late_fee      1.000000\n",
       "pub_rec               pub_rec                 1.000000\n",
       "pub_rec_bankruptcies  pub_rec_bankruptcies    1.000000\n",
       "Length: 576, dtype: float64"
      ]
     },
     "execution_count": 81,
     "metadata": {},
     "output_type": "execute_result"
    }
   ],
   "source": [
    "#Let's find the correlation matrix for each variable and sort it to see which has the highest.\n",
    "corr = df_after_dropped_cols.corr().abs()\n",
    "corr.unstack().sort_values(kind=\"quicksort\")"
   ]
  },
  {
   "cell_type": "markdown",
   "id": "548536cf",
   "metadata": {},
   "source": [
    "##### Dropping following columns based on based on below anlysis(comments in the code cell)\n",
    "\n",
    "- dropping out_prncp\n",
    "- out_prncp_inv \n",
    "- loan_amnt\n",
    "- funded_amnt_inv\n",
    "- total_rec_late_fee\n",
    "- recoveries\n",
    "- total_rec_int\n",
    "- total_rec_prncp\n",
    "- total_pymnt\n",
    "- total_pymnt_inv\n",
    "- collection_recovery_fee\n",
    "- zip_code\n",
    "- addr_state\n",
    "- title\n",
    "- revol_bal"
   ]
  },
  {
   "cell_type": "code",
   "execution_count": 82,
   "id": "873a3795",
   "metadata": {},
   "outputs": [
    {
     "data": {
      "text/plain": [
       "100xx    597\n",
       "945xx    545\n",
       "112xx    516\n",
       "606xx    503\n",
       "070xx    473\n",
       "Name: zip_code, dtype: int64"
      ]
     },
     "execution_count": 82,
     "metadata": {},
     "output_type": "execute_result"
    }
   ],
   "source": [
    "#### keeping zipcode column doesn't make sense to get insight of defaulters\n",
    "df_after_dropped_cols.zip_code.value_counts().head()"
   ]
  },
  {
   "cell_type": "code",
   "execution_count": 83,
   "id": "e3a6bb8c",
   "metadata": {
    "scrolled": true
   },
   "outputs": [
    {
     "data": {
      "text/plain": [
       "CA    7099\n",
       "NY    3812\n",
       "FL    2866\n",
       "TX    2727\n",
       "NJ    1850\n",
       "IL    1525\n",
       "PA    1517\n",
       "VA    1407\n",
       "GA    1398\n",
       "MA    1340\n",
       "Name: addr_state, dtype: int64"
      ]
     },
     "execution_count": 83,
     "metadata": {},
     "output_type": "execute_result"
    }
   ],
   "source": [
    "#### keeping addr_state column doesn't make sense to get insight of defaulters\n",
    "df_after_dropped_cols.addr_state.value_counts().head(10)"
   ]
  },
  {
   "cell_type": "code",
   "execution_count": 84,
   "id": "06fdc61d",
   "metadata": {},
   "outputs": [
    {
     "data": {
      "text/plain": [
       "93"
      ]
     },
     "execution_count": 84,
     "metadata": {},
     "output_type": "execute_result"
    }
   ],
   "source": [
    "len(df_after_dropped_cols.title.value_counts().unique())"
   ]
  },
  {
   "cell_type": "code",
   "execution_count": null,
   "id": "966cc292",
   "metadata": {},
   "outputs": [],
   "source": []
  },
  {
   "cell_type": "code",
   "execution_count": 85,
   "id": "232dd495",
   "metadata": {},
   "outputs": [
    {
     "data": {
      "text/plain": [
       "(39717, 21)"
      ]
     },
     "execution_count": 85,
     "metadata": {},
     "output_type": "execute_result"
    }
   ],
   "source": [
    "#dropping out_prncp, out_prncp_inv because it just shows how much principle is outstanding. \n",
    "#It doesn't provide very meaninful insight about the defaulters\n",
    "#dropping loan_amnt,funded_amnt_inv as the data is very similar to funded_amnt\n",
    "#total_rec_late_fee and recoveries can be dropped as it has 95%+ entries as 0\n",
    "#total_rec_int','total_rec_prncp, total_pymnt,total_pymnt_inv, collection_recovery_fee  \n",
    "#can be dropped as it's not giving much insight\n",
    "#revol_bal is loan's post approval attribute so can be dropped\n",
    "#title is not giving much info on defaulters and there are 93 unique values.\n",
    "\n",
    "df_after_dropped_cols = df_after_dropped_cols.drop(columns=[\"out_prncp\",\"out_prncp_inv\",'loan_amnt','funded_amnt_inv', 'total_rec_late_fee', 'recoveries', 'total_rec_int','total_rec_prncp','total_pymnt_inv','total_pymnt','collection_recovery_fee' ,'addr_state', 'zip_code','title','revol_bal'])\n",
    "df_after_dropped_cols.shape"
   ]
  },
  {
   "cell_type": "code",
   "execution_count": 86,
   "id": "a08d3695",
   "metadata": {},
   "outputs": [
    {
     "data": {
      "text/html": [
       "<div>\n",
       "<style scoped>\n",
       "    .dataframe tbody tr th:only-of-type {\n",
       "        vertical-align: middle;\n",
       "    }\n",
       "\n",
       "    .dataframe tbody tr th {\n",
       "        vertical-align: top;\n",
       "    }\n",
       "\n",
       "    .dataframe thead th {\n",
       "        text-align: right;\n",
       "    }\n",
       "</style>\n",
       "<table border=\"1\" class=\"dataframe\">\n",
       "  <thead>\n",
       "    <tr style=\"text-align: right;\">\n",
       "      <th></th>\n",
       "      <th>funded_amnt</th>\n",
       "      <th>term</th>\n",
       "      <th>int_rate</th>\n",
       "      <th>installment</th>\n",
       "      <th>annual_inc</th>\n",
       "      <th>dti</th>\n",
       "      <th>delinq_2yrs</th>\n",
       "      <th>inq_last_6mths</th>\n",
       "      <th>open_acc</th>\n",
       "      <th>pub_rec</th>\n",
       "      <th>total_acc</th>\n",
       "      <th>pub_rec_bankruptcies</th>\n",
       "    </tr>\n",
       "  </thead>\n",
       "  <tbody>\n",
       "    <tr>\n",
       "      <th>count</th>\n",
       "      <td>39717.000000</td>\n",
       "      <td>39717.000000</td>\n",
       "      <td>39717.000000</td>\n",
       "      <td>39717.000000</td>\n",
       "      <td>3.971700e+04</td>\n",
       "      <td>39717.000000</td>\n",
       "      <td>39717.000000</td>\n",
       "      <td>39717.000000</td>\n",
       "      <td>39717.000000</td>\n",
       "      <td>39717.000000</td>\n",
       "      <td>39717.000000</td>\n",
       "      <td>39020.000000</td>\n",
       "    </tr>\n",
       "    <tr>\n",
       "      <th>mean</th>\n",
       "      <td>10947.713196</td>\n",
       "      <td>42.418007</td>\n",
       "      <td>12.021177</td>\n",
       "      <td>324.561922</td>\n",
       "      <td>6.896893e+04</td>\n",
       "      <td>13.315130</td>\n",
       "      <td>0.146512</td>\n",
       "      <td>0.869200</td>\n",
       "      <td>9.294408</td>\n",
       "      <td>0.055065</td>\n",
       "      <td>22.088828</td>\n",
       "      <td>0.043260</td>\n",
       "    </tr>\n",
       "    <tr>\n",
       "      <th>std</th>\n",
       "      <td>7187.238670</td>\n",
       "      <td>10.622815</td>\n",
       "      <td>3.724825</td>\n",
       "      <td>208.874874</td>\n",
       "      <td>6.379377e+04</td>\n",
       "      <td>6.678594</td>\n",
       "      <td>0.491812</td>\n",
       "      <td>1.070219</td>\n",
       "      <td>4.400282</td>\n",
       "      <td>0.237200</td>\n",
       "      <td>11.401709</td>\n",
       "      <td>0.204324</td>\n",
       "    </tr>\n",
       "    <tr>\n",
       "      <th>min</th>\n",
       "      <td>500.000000</td>\n",
       "      <td>36.000000</td>\n",
       "      <td>5.420000</td>\n",
       "      <td>15.690000</td>\n",
       "      <td>4.000000e+03</td>\n",
       "      <td>0.000000</td>\n",
       "      <td>0.000000</td>\n",
       "      <td>0.000000</td>\n",
       "      <td>2.000000</td>\n",
       "      <td>0.000000</td>\n",
       "      <td>2.000000</td>\n",
       "      <td>0.000000</td>\n",
       "    </tr>\n",
       "    <tr>\n",
       "      <th>25%</th>\n",
       "      <td>5400.000000</td>\n",
       "      <td>36.000000</td>\n",
       "      <td>9.250000</td>\n",
       "      <td>167.020000</td>\n",
       "      <td>4.040400e+04</td>\n",
       "      <td>8.170000</td>\n",
       "      <td>0.000000</td>\n",
       "      <td>0.000000</td>\n",
       "      <td>6.000000</td>\n",
       "      <td>0.000000</td>\n",
       "      <td>13.000000</td>\n",
       "      <td>0.000000</td>\n",
       "    </tr>\n",
       "    <tr>\n",
       "      <th>50%</th>\n",
       "      <td>9600.000000</td>\n",
       "      <td>36.000000</td>\n",
       "      <td>11.860000</td>\n",
       "      <td>280.220000</td>\n",
       "      <td>5.900000e+04</td>\n",
       "      <td>13.400000</td>\n",
       "      <td>0.000000</td>\n",
       "      <td>1.000000</td>\n",
       "      <td>9.000000</td>\n",
       "      <td>0.000000</td>\n",
       "      <td>20.000000</td>\n",
       "      <td>0.000000</td>\n",
       "    </tr>\n",
       "    <tr>\n",
       "      <th>75%</th>\n",
       "      <td>15000.000000</td>\n",
       "      <td>60.000000</td>\n",
       "      <td>14.590000</td>\n",
       "      <td>430.780000</td>\n",
       "      <td>8.230000e+04</td>\n",
       "      <td>18.600000</td>\n",
       "      <td>0.000000</td>\n",
       "      <td>1.000000</td>\n",
       "      <td>12.000000</td>\n",
       "      <td>0.000000</td>\n",
       "      <td>29.000000</td>\n",
       "      <td>0.000000</td>\n",
       "    </tr>\n",
       "    <tr>\n",
       "      <th>max</th>\n",
       "      <td>35000.000000</td>\n",
       "      <td>60.000000</td>\n",
       "      <td>24.590000</td>\n",
       "      <td>1305.190000</td>\n",
       "      <td>6.000000e+06</td>\n",
       "      <td>29.990000</td>\n",
       "      <td>11.000000</td>\n",
       "      <td>8.000000</td>\n",
       "      <td>44.000000</td>\n",
       "      <td>4.000000</td>\n",
       "      <td>90.000000</td>\n",
       "      <td>2.000000</td>\n",
       "    </tr>\n",
       "  </tbody>\n",
       "</table>\n",
       "</div>"
      ],
      "text/plain": [
       "        funded_amnt          term      int_rate   installment    annual_inc  \\\n",
       "count  39717.000000  39717.000000  39717.000000  39717.000000  3.971700e+04   \n",
       "mean   10947.713196     42.418007     12.021177    324.561922  6.896893e+04   \n",
       "std     7187.238670     10.622815      3.724825    208.874874  6.379377e+04   \n",
       "min      500.000000     36.000000      5.420000     15.690000  4.000000e+03   \n",
       "25%     5400.000000     36.000000      9.250000    167.020000  4.040400e+04   \n",
       "50%     9600.000000     36.000000     11.860000    280.220000  5.900000e+04   \n",
       "75%    15000.000000     60.000000     14.590000    430.780000  8.230000e+04   \n",
       "max    35000.000000     60.000000     24.590000   1305.190000  6.000000e+06   \n",
       "\n",
       "                dti   delinq_2yrs  inq_last_6mths      open_acc       pub_rec  \\\n",
       "count  39717.000000  39717.000000    39717.000000  39717.000000  39717.000000   \n",
       "mean      13.315130      0.146512        0.869200      9.294408      0.055065   \n",
       "std        6.678594      0.491812        1.070219      4.400282      0.237200   \n",
       "min        0.000000      0.000000        0.000000      2.000000      0.000000   \n",
       "25%        8.170000      0.000000        0.000000      6.000000      0.000000   \n",
       "50%       13.400000      0.000000        1.000000      9.000000      0.000000   \n",
       "75%       18.600000      0.000000        1.000000     12.000000      0.000000   \n",
       "max       29.990000     11.000000        8.000000     44.000000      4.000000   \n",
       "\n",
       "          total_acc  pub_rec_bankruptcies  \n",
       "count  39717.000000          39020.000000  \n",
       "mean      22.088828              0.043260  \n",
       "std       11.401709              0.204324  \n",
       "min        2.000000              0.000000  \n",
       "25%       13.000000              0.000000  \n",
       "50%       20.000000              0.000000  \n",
       "75%       29.000000              0.000000  \n",
       "max       90.000000              2.000000  "
      ]
     },
     "execution_count": 86,
     "metadata": {},
     "output_type": "execute_result"
    }
   ],
   "source": [
    "df_after_dropped_cols.describe()"
   ]
  },
  {
   "cell_type": "code",
   "execution_count": null,
   "id": "42571ba7",
   "metadata": {},
   "outputs": [],
   "source": []
  },
  {
   "cell_type": "code",
   "execution_count": 87,
   "id": "3b342dd2",
   "metadata": {
    "scrolled": false
   },
   "outputs": [
    {
     "data": {
      "text/html": [
       "<div>\n",
       "<style scoped>\n",
       "    .dataframe tbody tr th:only-of-type {\n",
       "        vertical-align: middle;\n",
       "    }\n",
       "\n",
       "    .dataframe tbody tr th {\n",
       "        vertical-align: top;\n",
       "    }\n",
       "\n",
       "    .dataframe thead th {\n",
       "        text-align: right;\n",
       "    }\n",
       "</style>\n",
       "<table border=\"1\" class=\"dataframe\">\n",
       "  <thead>\n",
       "    <tr style=\"text-align: right;\">\n",
       "      <th></th>\n",
       "      <th>funded_amnt</th>\n",
       "      <th>term</th>\n",
       "      <th>int_rate</th>\n",
       "      <th>installment</th>\n",
       "      <th>grade</th>\n",
       "      <th>emp_length</th>\n",
       "      <th>home_ownership</th>\n",
       "      <th>annual_inc</th>\n",
       "      <th>verification_status</th>\n",
       "      <th>issue_d</th>\n",
       "      <th>loan_status</th>\n",
       "      <th>purpose</th>\n",
       "      <th>dti</th>\n",
       "      <th>delinq_2yrs</th>\n",
       "      <th>earliest_cr_line</th>\n",
       "      <th>inq_last_6mths</th>\n",
       "      <th>open_acc</th>\n",
       "      <th>pub_rec</th>\n",
       "      <th>revol_util</th>\n",
       "      <th>total_acc</th>\n",
       "      <th>pub_rec_bankruptcies</th>\n",
       "    </tr>\n",
       "  </thead>\n",
       "  <tbody>\n",
       "    <tr>\n",
       "      <th>0</th>\n",
       "      <td>5000</td>\n",
       "      <td>36</td>\n",
       "      <td>10.65</td>\n",
       "      <td>162.87</td>\n",
       "      <td>B</td>\n",
       "      <td>10+ years</td>\n",
       "      <td>RENT</td>\n",
       "      <td>24000.0</td>\n",
       "      <td>Verified</td>\n",
       "      <td>Dec-11</td>\n",
       "      <td>Fully Paid</td>\n",
       "      <td>credit_card</td>\n",
       "      <td>27.65</td>\n",
       "      <td>0</td>\n",
       "      <td>Jan-85</td>\n",
       "      <td>1</td>\n",
       "      <td>3</td>\n",
       "      <td>0</td>\n",
       "      <td>83.70%</td>\n",
       "      <td>9</td>\n",
       "      <td>0.0</td>\n",
       "    </tr>\n",
       "    <tr>\n",
       "      <th>1</th>\n",
       "      <td>2500</td>\n",
       "      <td>60</td>\n",
       "      <td>15.27</td>\n",
       "      <td>59.83</td>\n",
       "      <td>C</td>\n",
       "      <td>&lt; 1 year</td>\n",
       "      <td>RENT</td>\n",
       "      <td>30000.0</td>\n",
       "      <td>Source Verified</td>\n",
       "      <td>Dec-11</td>\n",
       "      <td>Charged Off</td>\n",
       "      <td>car</td>\n",
       "      <td>1.00</td>\n",
       "      <td>0</td>\n",
       "      <td>Apr-99</td>\n",
       "      <td>5</td>\n",
       "      <td>3</td>\n",
       "      <td>0</td>\n",
       "      <td>9.40%</td>\n",
       "      <td>4</td>\n",
       "      <td>0.0</td>\n",
       "    </tr>\n",
       "    <tr>\n",
       "      <th>2</th>\n",
       "      <td>2400</td>\n",
       "      <td>36</td>\n",
       "      <td>15.96</td>\n",
       "      <td>84.33</td>\n",
       "      <td>C</td>\n",
       "      <td>10+ years</td>\n",
       "      <td>RENT</td>\n",
       "      <td>12252.0</td>\n",
       "      <td>Not Verified</td>\n",
       "      <td>Dec-11</td>\n",
       "      <td>Fully Paid</td>\n",
       "      <td>small_business</td>\n",
       "      <td>8.72</td>\n",
       "      <td>0</td>\n",
       "      <td>Nov-01</td>\n",
       "      <td>2</td>\n",
       "      <td>2</td>\n",
       "      <td>0</td>\n",
       "      <td>98.50%</td>\n",
       "      <td>10</td>\n",
       "      <td>0.0</td>\n",
       "    </tr>\n",
       "    <tr>\n",
       "      <th>3</th>\n",
       "      <td>10000</td>\n",
       "      <td>36</td>\n",
       "      <td>13.49</td>\n",
       "      <td>339.31</td>\n",
       "      <td>C</td>\n",
       "      <td>10+ years</td>\n",
       "      <td>RENT</td>\n",
       "      <td>49200.0</td>\n",
       "      <td>Source Verified</td>\n",
       "      <td>Dec-11</td>\n",
       "      <td>Fully Paid</td>\n",
       "      <td>other</td>\n",
       "      <td>20.00</td>\n",
       "      <td>0</td>\n",
       "      <td>Feb-96</td>\n",
       "      <td>1</td>\n",
       "      <td>10</td>\n",
       "      <td>0</td>\n",
       "      <td>21%</td>\n",
       "      <td>37</td>\n",
       "      <td>0.0</td>\n",
       "    </tr>\n",
       "    <tr>\n",
       "      <th>4</th>\n",
       "      <td>3000</td>\n",
       "      <td>60</td>\n",
       "      <td>12.69</td>\n",
       "      <td>67.79</td>\n",
       "      <td>B</td>\n",
       "      <td>1 year</td>\n",
       "      <td>RENT</td>\n",
       "      <td>80000.0</td>\n",
       "      <td>Source Verified</td>\n",
       "      <td>Dec-11</td>\n",
       "      <td>Current</td>\n",
       "      <td>other</td>\n",
       "      <td>17.94</td>\n",
       "      <td>0</td>\n",
       "      <td>Jan-96</td>\n",
       "      <td>0</td>\n",
       "      <td>15</td>\n",
       "      <td>0</td>\n",
       "      <td>53.90%</td>\n",
       "      <td>38</td>\n",
       "      <td>0.0</td>\n",
       "    </tr>\n",
       "  </tbody>\n",
       "</table>\n",
       "</div>"
      ],
      "text/plain": [
       "   funded_amnt  term  int_rate  installment grade emp_length home_ownership  \\\n",
       "0         5000    36     10.65       162.87     B  10+ years           RENT   \n",
       "1         2500    60     15.27        59.83     C   < 1 year           RENT   \n",
       "2         2400    36     15.96        84.33     C  10+ years           RENT   \n",
       "3        10000    36     13.49       339.31     C  10+ years           RENT   \n",
       "4         3000    60     12.69        67.79     B     1 year           RENT   \n",
       "\n",
       "   annual_inc verification_status issue_d  loan_status         purpose    dti  \\\n",
       "0     24000.0            Verified  Dec-11   Fully Paid     credit_card  27.65   \n",
       "1     30000.0     Source Verified  Dec-11  Charged Off             car   1.00   \n",
       "2     12252.0        Not Verified  Dec-11   Fully Paid  small_business   8.72   \n",
       "3     49200.0     Source Verified  Dec-11   Fully Paid           other  20.00   \n",
       "4     80000.0     Source Verified  Dec-11      Current           other  17.94   \n",
       "\n",
       "   delinq_2yrs earliest_cr_line  inq_last_6mths  open_acc  pub_rec revol_util  \\\n",
       "0            0           Jan-85               1         3        0     83.70%   \n",
       "1            0           Apr-99               5         3        0      9.40%   \n",
       "2            0           Nov-01               2         2        0     98.50%   \n",
       "3            0           Feb-96               1        10        0        21%   \n",
       "4            0           Jan-96               0        15        0     53.90%   \n",
       "\n",
       "   total_acc  pub_rec_bankruptcies  \n",
       "0          9                   0.0  \n",
       "1          4                   0.0  \n",
       "2         10                   0.0  \n",
       "3         37                   0.0  \n",
       "4         38                   0.0  "
      ]
     },
     "execution_count": 87,
     "metadata": {},
     "output_type": "execute_result"
    }
   ],
   "source": [
    "df_after_dropped_cols.head()"
   ]
  },
  {
   "cell_type": "markdown",
   "id": "98aa7982",
   "metadata": {},
   "source": [
    "#### cleaning up rows"
   ]
  },
  {
   "cell_type": "code",
   "execution_count": 88,
   "id": "0aa3864d",
   "metadata": {},
   "outputs": [
    {
     "data": {
      "text/plain": [
       "39717"
      ]
     },
     "execution_count": 88,
     "metadata": {},
     "output_type": "execute_result"
    }
   ],
   "source": [
    "#Let's find the rows which has more than 60% of non-null vales. \n",
    "#We will be dropping the remaining rows. \n",
    "#In this case we got all the rows having more than 60% non-null values so we won't drop anything.\n",
    "\n",
    "len(df_after_dropped_cols.dropna(thresh=0.6*df_after_dropped_cols.shape[1], axis=0))\n"
   ]
  },
  {
   "cell_type": "code",
   "execution_count": 89,
   "id": "07118e86",
   "metadata": {},
   "outputs": [
    {
     "data": {
      "text/html": [
       "<div>\n",
       "<style scoped>\n",
       "    .dataframe tbody tr th:only-of-type {\n",
       "        vertical-align: middle;\n",
       "    }\n",
       "\n",
       "    .dataframe tbody tr th {\n",
       "        vertical-align: top;\n",
       "    }\n",
       "\n",
       "    .dataframe thead th {\n",
       "        text-align: right;\n",
       "    }\n",
       "</style>\n",
       "<table border=\"1\" class=\"dataframe\">\n",
       "  <thead>\n",
       "    <tr style=\"text-align: right;\">\n",
       "      <th></th>\n",
       "      <th>funded_amnt</th>\n",
       "      <th>term</th>\n",
       "      <th>int_rate</th>\n",
       "      <th>installment</th>\n",
       "      <th>grade</th>\n",
       "      <th>emp_length</th>\n",
       "      <th>home_ownership</th>\n",
       "      <th>annual_inc</th>\n",
       "      <th>verification_status</th>\n",
       "      <th>issue_d</th>\n",
       "      <th>loan_status</th>\n",
       "      <th>purpose</th>\n",
       "      <th>dti</th>\n",
       "      <th>delinq_2yrs</th>\n",
       "      <th>earliest_cr_line</th>\n",
       "      <th>inq_last_6mths</th>\n",
       "      <th>open_acc</th>\n",
       "      <th>pub_rec</th>\n",
       "      <th>revol_util</th>\n",
       "      <th>total_acc</th>\n",
       "      <th>pub_rec_bankruptcies</th>\n",
       "    </tr>\n",
       "  </thead>\n",
       "  <tbody>\n",
       "    <tr>\n",
       "      <th>0</th>\n",
       "      <td>5000</td>\n",
       "      <td>36</td>\n",
       "      <td>10.65</td>\n",
       "      <td>162.87</td>\n",
       "      <td>B</td>\n",
       "      <td>10+ years</td>\n",
       "      <td>RENT</td>\n",
       "      <td>24000.0</td>\n",
       "      <td>Verified</td>\n",
       "      <td>Dec-11</td>\n",
       "      <td>Fully Paid</td>\n",
       "      <td>credit_card</td>\n",
       "      <td>27.65</td>\n",
       "      <td>0</td>\n",
       "      <td>Jan-85</td>\n",
       "      <td>1</td>\n",
       "      <td>3</td>\n",
       "      <td>0</td>\n",
       "      <td>83.70%</td>\n",
       "      <td>9</td>\n",
       "      <td>0.0</td>\n",
       "    </tr>\n",
       "    <tr>\n",
       "      <th>1</th>\n",
       "      <td>2500</td>\n",
       "      <td>60</td>\n",
       "      <td>15.27</td>\n",
       "      <td>59.83</td>\n",
       "      <td>C</td>\n",
       "      <td>&lt; 1 year</td>\n",
       "      <td>RENT</td>\n",
       "      <td>30000.0</td>\n",
       "      <td>Source Verified</td>\n",
       "      <td>Dec-11</td>\n",
       "      <td>Charged Off</td>\n",
       "      <td>car</td>\n",
       "      <td>1.00</td>\n",
       "      <td>0</td>\n",
       "      <td>Apr-99</td>\n",
       "      <td>5</td>\n",
       "      <td>3</td>\n",
       "      <td>0</td>\n",
       "      <td>9.40%</td>\n",
       "      <td>4</td>\n",
       "      <td>0.0</td>\n",
       "    </tr>\n",
       "    <tr>\n",
       "      <th>2</th>\n",
       "      <td>2400</td>\n",
       "      <td>36</td>\n",
       "      <td>15.96</td>\n",
       "      <td>84.33</td>\n",
       "      <td>C</td>\n",
       "      <td>10+ years</td>\n",
       "      <td>RENT</td>\n",
       "      <td>12252.0</td>\n",
       "      <td>Not Verified</td>\n",
       "      <td>Dec-11</td>\n",
       "      <td>Fully Paid</td>\n",
       "      <td>small_business</td>\n",
       "      <td>8.72</td>\n",
       "      <td>0</td>\n",
       "      <td>Nov-01</td>\n",
       "      <td>2</td>\n",
       "      <td>2</td>\n",
       "      <td>0</td>\n",
       "      <td>98.50%</td>\n",
       "      <td>10</td>\n",
       "      <td>0.0</td>\n",
       "    </tr>\n",
       "    <tr>\n",
       "      <th>3</th>\n",
       "      <td>10000</td>\n",
       "      <td>36</td>\n",
       "      <td>13.49</td>\n",
       "      <td>339.31</td>\n",
       "      <td>C</td>\n",
       "      <td>10+ years</td>\n",
       "      <td>RENT</td>\n",
       "      <td>49200.0</td>\n",
       "      <td>Source Verified</td>\n",
       "      <td>Dec-11</td>\n",
       "      <td>Fully Paid</td>\n",
       "      <td>other</td>\n",
       "      <td>20.00</td>\n",
       "      <td>0</td>\n",
       "      <td>Feb-96</td>\n",
       "      <td>1</td>\n",
       "      <td>10</td>\n",
       "      <td>0</td>\n",
       "      <td>21%</td>\n",
       "      <td>37</td>\n",
       "      <td>0.0</td>\n",
       "    </tr>\n",
       "    <tr>\n",
       "      <th>4</th>\n",
       "      <td>3000</td>\n",
       "      <td>60</td>\n",
       "      <td>12.69</td>\n",
       "      <td>67.79</td>\n",
       "      <td>B</td>\n",
       "      <td>1 year</td>\n",
       "      <td>RENT</td>\n",
       "      <td>80000.0</td>\n",
       "      <td>Source Verified</td>\n",
       "      <td>Dec-11</td>\n",
       "      <td>Current</td>\n",
       "      <td>other</td>\n",
       "      <td>17.94</td>\n",
       "      <td>0</td>\n",
       "      <td>Jan-96</td>\n",
       "      <td>0</td>\n",
       "      <td>15</td>\n",
       "      <td>0</td>\n",
       "      <td>53.90%</td>\n",
       "      <td>38</td>\n",
       "      <td>0.0</td>\n",
       "    </tr>\n",
       "  </tbody>\n",
       "</table>\n",
       "</div>"
      ],
      "text/plain": [
       "   funded_amnt  term  int_rate  installment grade emp_length home_ownership  \\\n",
       "0         5000    36     10.65       162.87     B  10+ years           RENT   \n",
       "1         2500    60     15.27        59.83     C   < 1 year           RENT   \n",
       "2         2400    36     15.96        84.33     C  10+ years           RENT   \n",
       "3        10000    36     13.49       339.31     C  10+ years           RENT   \n",
       "4         3000    60     12.69        67.79     B     1 year           RENT   \n",
       "\n",
       "   annual_inc verification_status issue_d  loan_status         purpose    dti  \\\n",
       "0     24000.0            Verified  Dec-11   Fully Paid     credit_card  27.65   \n",
       "1     30000.0     Source Verified  Dec-11  Charged Off             car   1.00   \n",
       "2     12252.0        Not Verified  Dec-11   Fully Paid  small_business   8.72   \n",
       "3     49200.0     Source Verified  Dec-11   Fully Paid           other  20.00   \n",
       "4     80000.0     Source Verified  Dec-11      Current           other  17.94   \n",
       "\n",
       "   delinq_2yrs earliest_cr_line  inq_last_6mths  open_acc  pub_rec revol_util  \\\n",
       "0            0           Jan-85               1         3        0     83.70%   \n",
       "1            0           Apr-99               5         3        0      9.40%   \n",
       "2            0           Nov-01               2         2        0     98.50%   \n",
       "3            0           Feb-96               1        10        0        21%   \n",
       "4            0           Jan-96               0        15        0     53.90%   \n",
       "\n",
       "   total_acc  pub_rec_bankruptcies  \n",
       "0          9                   0.0  \n",
       "1          4                   0.0  \n",
       "2         10                   0.0  \n",
       "3         37                   0.0  \n",
       "4         38                   0.0  "
      ]
     },
     "execution_count": 89,
     "metadata": {},
     "output_type": "execute_result"
    }
   ],
   "source": [
    "df_after_dropped_cols.head()"
   ]
  },
  {
   "cell_type": "code",
   "execution_count": 90,
   "id": "38a0afec",
   "metadata": {},
   "outputs": [
    {
     "data": {
      "text/plain": [
       "Index(['funded_amnt', 'term', 'int_rate', 'installment', 'grade', 'emp_length',\n",
       "       'home_ownership', 'annual_inc', 'verification_status', 'issue_d',\n",
       "       'loan_status', 'purpose', 'dti', 'delinq_2yrs', 'earliest_cr_line',\n",
       "       'inq_last_6mths', 'open_acc', 'pub_rec', 'revol_util', 'total_acc',\n",
       "       'pub_rec_bankruptcies'],\n",
       "      dtype='object')"
      ]
     },
     "execution_count": 90,
     "metadata": {},
     "output_type": "execute_result"
    }
   ],
   "source": [
    "df_after_dropped_cols.columns"
   ]
  },
  {
   "cell_type": "code",
   "execution_count": 91,
   "id": "dce8a166",
   "metadata": {},
   "outputs": [
    {
     "data": {
      "text/plain": [
       "21"
      ]
     },
     "execution_count": 91,
     "metadata": {},
     "output_type": "execute_result"
    }
   ],
   "source": [
    "df_after_dropped_cols.shape[1]"
   ]
  },
  {
   "cell_type": "markdown",
   "id": "c5c7dfd7",
   "metadata": {},
   "source": [
    "### Outliers"
   ]
  },
  {
   "cell_type": "markdown",
   "id": "4e700da1",
   "metadata": {},
   "source": [
    "After cleaning null values, let's analyze outliers for the following variables\n",
    "#### Removing outliers - Removing rows < 25th percentile - 1.5 * IQR and > 75th %ile + 1.5IQR\n",
    "\n",
    "#### funded_amt outlier treatment"
   ]
  },
  {
   "cell_type": "code",
   "execution_count": 132,
   "id": "90b8c0f3",
   "metadata": {},
   "outputs": [
    {
     "data": {
      "text/plain": [
       "<AxesSubplot:xlabel='funded_amnt'>"
      ]
     },
     "execution_count": 132,
     "metadata": {},
     "output_type": "execute_result"
    },
    {
     "data": {
      "image/png": "[encoded data removed]",
      "text/plain": [
       "<Figure size 432x288 with 1 Axes>"
      ]
     },
     "metadata": {
      "needs_background": "light"
     },
     "output_type": "display_data"
    }
   ],
   "source": [
    "# Using a boxplot chart for looking at outliers for funded_amnt\n",
    "\n",
    "sns.boxplot(x=df_after_dropped_cols['funded_amnt'])\n"
   ]
  },
  {
   "cell_type": "code",
   "execution_count": 93,
   "id": "1f8f5ebf",
   "metadata": {},
   "outputs": [],
   "source": [
    "funded_amnt_25th_percentile = np.quantile(df_after_dropped_cols.funded_amnt, 0.25)\n",
    "funded_amnt_75th_percentile =np.quantile(df_after_dropped_cols.funded_amnt, 0.75)\n",
    "IQR=funded_amnt_75th_percentile - funded_amnt_25th_percentile\n",
    "outliers_lower = funded_amnt_25th_percentile - 1.5*IQR\n",
    "\n",
    "outliers_upper=funded_amnt_75th_percentile + 1.5*IQR\n",
    "\n",
    "df_after_dropped_cols=df_after_dropped_cols[(df_after_dropped_cols['funded_amnt']>outliers_lower) & (df_after_dropped_cols['funded_amnt']<outliers_upper)]"
   ]
  },
  {
   "cell_type": "code",
   "execution_count": 131,
   "id": "cf76e6e7",
   "metadata": {},
   "outputs": [
    {
     "data": {
      "text/plain": [
       "<AxesSubplot:xlabel='funded_amnt'>"
      ]
     },
     "execution_count": 131,
     "metadata": {},
     "output_type": "execute_result"
    },
    {
     "data": {
      "image/png": "[encoded data removed]",
      "text/plain": [
       "<Figure size 432x288 with 1 Axes>"
      ]
     },
     "metadata": {
      "needs_background": "light"
     },
     "output_type": "display_data"
    }
   ],
   "source": [
    "sns.boxplot(x=df_after_dropped_cols['funded_amnt'],color='Green')\n"
   ]
  },
  {
   "cell_type": "markdown",
   "id": "257228b1",
   "metadata": {},
   "source": [
    "#### Installment outlier treatment"
   ]
  },
  {
   "cell_type": "code",
   "execution_count": 130,
   "id": "4c16bfe8",
   "metadata": {},
   "outputs": [
    {
     "data": {
      "text/plain": [
       "<AxesSubplot:xlabel='installment'>"
      ]
     },
     "execution_count": 130,
     "metadata": {},
     "output_type": "execute_result"
    },
    {
     "data": {
      "image/png": "[encoded data removed]",
      "text/plain": [
       "<Figure size 432x288 with 1 Axes>"
      ]
     },
     "metadata": {
      "needs_background": "light"
     },
     "output_type": "display_data"
    }
   ],
   "source": [
    "# Installment outliers graph analysis\n",
    "\n",
    "sns.boxplot(x=df_after_dropped_cols['installment'],color='Orange')\n"
   ]
  },
  {
   "cell_type": "code",
   "execution_count": 96,
   "id": "274d054b",
   "metadata": {},
   "outputs": [],
   "source": [
    "installment_25th_percentile = np.quantile(df_after_dropped_cols.installment, 0.25)\n",
    "installment_75th_percentile =np.quantile(df_after_dropped_cols.installment, 0.75)\n",
    "IQR=installment_75th_percentile - installment_25th_percentile\n",
    "df_after_dropped_cols=df_after_dropped_cols[(df_after_dropped_cols['installment']>installment_25th_percentile) & (df_after_dropped_cols['installment']<installment_75th_percentile)]"
   ]
  },
  {
   "cell_type": "code",
   "execution_count": 129,
   "id": "35a51f10",
   "metadata": {},
   "outputs": [
    {
     "data": {
      "text/plain": [
       "<AxesSubplot:xlabel='installment'>"
      ]
     },
     "execution_count": 129,
     "metadata": {},
     "output_type": "execute_result"
    },
    {
     "data": {
      "image/png": "[encoded data removed]",
      "text/plain": [
       "<Figure size 432x288 with 1 Axes>"
      ]
     },
     "metadata": {
      "needs_background": "light"
     },
     "output_type": "display_data"
    }
   ],
   "source": [
    "# installment after removing outlier\n",
    "sns.boxplot(x=df_after_dropped_cols['installment'],color='Red')"
   ]
  },
  {
   "cell_type": "markdown",
   "id": "bec182b1",
   "metadata": {},
   "source": [
    "#### open_acc outlier treatment"
   ]
  },
  {
   "cell_type": "code",
   "execution_count": 133,
   "id": "f6c332e2",
   "metadata": {},
   "outputs": [
    {
     "data": {
      "text/plain": [
       "<AxesSubplot:xlabel='open_acc'>"
      ]
     },
     "execution_count": 133,
     "metadata": {},
     "output_type": "execute_result"
    },
    {
     "data": {
      "image/png": "[encoded data removed]",
      "text/plain": [
       "<Figure size 432x288 with 1 Axes>"
      ]
     },
     "metadata": {
      "needs_background": "light"
     },
     "output_type": "display_data"
    }
   ],
   "source": [
    "#Visual analysis of outliers for open_acc\n",
    "\n",
    "sns.boxplot(x=df_after_dropped_cols['open_acc'],color='Violet')"
   ]
  },
  {
   "cell_type": "code",
   "execution_count": 99,
   "id": "4edf60c4",
   "metadata": {},
   "outputs": [],
   "source": [
    "#Dropping outliers for open_acc\n",
    "\n",
    "open_acc_25th_percentile = np.quantile(df_after_dropped_cols.open_acc, 0.25)\n",
    "open_acc_75th_percentile =np.quantile(df_after_dropped_cols.open_acc, 0.75)\n",
    "IQR=open_acc_75th_percentile - open_acc_25th_percentile\n",
    "df_after_dropped_cols=df_after_dropped_cols[(df_after_dropped_cols['open_acc']>open_acc_25th_percentile) & (df_after_dropped_cols['open_acc']<open_acc_75th_percentile)]\n"
   ]
  },
  {
   "cell_type": "code",
   "execution_count": 139,
   "id": "b5d1ee50",
   "metadata": {},
   "outputs": [
    {
     "data": {
      "text/plain": [
       "<AxesSubplot:xlabel='open_acc'>"
      ]
     },
     "execution_count": 139,
     "metadata": {},
     "output_type": "execute_result"
    },
    {
     "data": {
      "image/png": "[encoded data removed]",
      "text/plain": [
       "<Figure size 432x288 with 1 Axes>"
      ]
     },
     "metadata": {
      "needs_background": "light"
     },
     "output_type": "display_data"
    }
   ],
   "source": [
    "#open_acc after removing outlier\n",
    "sns.boxplot(x=df_after_dropped_cols['open_acc'],color='Cyan')"
   ]
  },
  {
   "cell_type": "markdown",
   "id": "bc397b72",
   "metadata": {},
   "source": [
    "#### annual_inc outlier treatment"
   ]
  },
  {
   "cell_type": "code",
   "execution_count": 142,
   "id": "293cde6a",
   "metadata": {},
   "outputs": [
    {
     "data": {
      "text/plain": [
       "<AxesSubplot:xlabel='annual_inc'>"
      ]
     },
     "execution_count": 142,
     "metadata": {},
     "output_type": "execute_result"
    },
    {
     "data": {
      "image/png": "[encoded data removed]",
      "text/plain": [
       "<Figure size 432x288 with 1 Axes>"
      ]
     },
     "metadata": {
      "needs_background": "light"
     },
     "output_type": "display_data"
    }
   ],
   "source": [
    "#Visual analysis of outliers for open_acc\n",
    "\n",
    "sns.boxplot(x=df_after_dropped_cols['annual_inc'],color='Purple')"
   ]
  },
  {
   "cell_type": "code",
   "execution_count": 102,
   "id": "d480a25c",
   "metadata": {},
   "outputs": [],
   "source": [
    "#Dropping outliers for open_acc\n",
    "\n",
    "annual_inc_25th_percentile = np.quantile(df_after_dropped_cols.annual_inc, 0.25)\n",
    "annual_inc_75th_percentile =np.quantile(df_after_dropped_cols.annual_inc, 0.75)\n",
    "IQR=annual_inc_75th_percentile - annual_inc_25th_percentile\n",
    "df_after_dropped_cols=df_after_dropped_cols[(df_after_dropped_cols['annual_inc']>annual_inc_25th_percentile) & (df_after_dropped_cols['annual_inc']<annual_inc_75th_percentile)]\n"
   ]
  },
  {
   "cell_type": "code",
   "execution_count": 145,
   "id": "d39d335c",
   "metadata": {},
   "outputs": [
    {
     "data": {
      "text/plain": [
       "<AxesSubplot:xlabel='annual_inc'>"
      ]
     },
     "execution_count": 145,
     "metadata": {},
     "output_type": "execute_result"
    },
    {
     "data": {
      "image/png": "[encoded data removed]",
      "text/plain": [
       "<Figure size 432x288 with 1 Axes>"
      ]
     },
     "metadata": {
      "needs_background": "light"
     },
     "output_type": "display_data"
    }
   ],
   "source": [
    "#Annual income after removing outlier\n",
    "sns.boxplot(x=df_after_dropped_cols['annual_inc'],color='Lime')"
   ]
  },
  {
   "cell_type": "markdown",
   "id": "456409ac",
   "metadata": {},
   "source": [
    "### Insights\n",
    "\n",
    "- Loan Status (Fully paid vs current vs charged off)"
   ]
  },
  {
   "cell_type": "markdown",
   "id": "7bfb284f",
   "metadata": {},
   "source": [
    "#### Observation - ~13.6% customers are defaulters"
   ]
  },
  {
   "cell_type": "code",
   "execution_count": 104,
   "id": "513011f8",
   "metadata": {},
   "outputs": [
    {
     "data": {
      "text/plain": [
       "<AxesSubplot:ylabel='loan_status'>"
      ]
     },
     "execution_count": 104,
     "metadata": {},
     "output_type": "execute_result"
    },
    {
     "data": {
      "image/png": "[encoded data removed]",
      "text/plain": [
       "<Figure size 432x288 with 1 Axes>"
      ]
     },
     "metadata": {},
     "output_type": "display_data"
    }
   ],
   "source": [
    "#82.96% customer has paid the loan fully while 13.59% customer are defaulters leading to financial loss\n",
    "df_after_dropped_cols.loan_status.value_counts().plot.pie(autopct='%.2f')"
   ]
  },
  {
   "cell_type": "code",
   "execution_count": 105,
   "id": "15dc7a04",
   "metadata": {},
   "outputs": [],
   "source": [
    "#### Observation - ~73% customers goes shorter term loan(36 months) and 27% customers go for longer term loan( years)"
   ]
  },
  {
   "cell_type": "code",
   "execution_count": 106,
   "id": "37b46888",
   "metadata": {},
   "outputs": [
    {
     "data": {
      "text/plain": [
       "<AxesSubplot:ylabel='term'>"
      ]
     },
     "execution_count": 106,
     "metadata": {},
     "output_type": "execute_result"
    },
    {
     "data": {
      "image/png": "[encoded data removed]",
      "text/plain": [
       "<Figure size 432x288 with 1 Axes>"
      ]
     },
     "metadata": {},
     "output_type": "display_data"
    }
   ],
   "source": [
    "df_after_dropped_cols.term.value_counts().plot.pie(autopct='%.2f')"
   ]
  },
  {
   "cell_type": "code",
   "execution_count": 107,
   "id": "d191b826",
   "metadata": {},
   "outputs": [
    {
     "data": {
      "text/plain": [
       "<AxesSubplot:>"
      ]
     },
     "execution_count": 107,
     "metadata": {},
     "output_type": "execute_result"
    },
    {
     "data": {
      "image/png": "[encoded data removed]",
      "text/plain": [
       "<Figure size 432x288 with 1 Axes>"
      ]
     },
     "metadata": {
      "needs_background": "light"
     },
     "output_type": "display_data"
    }
   ],
   "source": [
    "df_after_dropped_cols.funded_amnt.plot.bar(x=\"funded_amnt\",y=\"loan_status\")"
   ]
  },
  {
   "cell_type": "code",
   "execution_count": 108,
   "id": "797e9c28",
   "metadata": {},
   "outputs": [
    {
     "data": {
      "image/png": "[encoded data removed]",
      "text/plain": [
       "<Figure size 432x288 with 1 Axes>"
      ]
     },
     "metadata": {
      "needs_background": "light"
     },
     "output_type": "display_data"
    }
   ],
   "source": [
    "#Graph comparing the loan term among deferral and non-deferral\n",
    "\n",
    "fig, ax = plt.subplots()\n",
    "charged_off = ax.bar(df_after_dropped_cols[df_after_dropped_cols['loan_status']=='Charged Off']['term'].unique(),df_after_dropped_cols[df_after_dropped_cols['loan_status']=='Charged Off']['term'].value_counts(),color='Red',width = 4,align='edge')\n",
    "charged_off.set_label('Charged Off')\n",
    "\n",
    "fully_pay = ax.bar(df_after_dropped_cols[df_after_dropped_cols['loan_status']=='Fully Paid']['term'].unique(),df_after_dropped_cols[df_after_dropped_cols['loan_status']=='Fully Paid']['term'].value_counts(), alpha=0.7, color='Blue',width = -4,align='edge')\n",
    "fully_pay.set_label('Fully Paid')\n",
    "plt.xticks([36,60],[36,60])\n",
    "plt.legend()\n",
    "plt.show()\n",
    "\n"
   ]
  },
  {
   "cell_type": "markdown",
   "id": "2cbeaa65",
   "metadata": {},
   "source": [
    "#### Observation - There is strong trend for no defaulters to prefer 36 months as term for the loan. Contrary to defaulters who prefer sligthly a longer term loan. "
   ]
  },
  {
   "cell_type": "code",
   "execution_count": 121,
   "id": "62188830",
   "metadata": {},
   "outputs": [
    {
     "data": {
      "image/png": "[encoded data removed]",
      "text/plain": [
       "<Figure size 432x288 with 1 Axes>"
      ]
     },
     "metadata": {
      "needs_background": "light"
     },
     "output_type": "display_data"
    }
   ],
   "source": [
    "# Graph for term feature for Defaulter\n",
    "\n",
    "plt.bar(df_after_dropped_cols[df_after_dropped_cols['loan_status']=='Charged Off']['term'].unique(),df_after_dropped_cols[df_after_dropped_cols['loan_status']=='Charged Off']['term'].value_counts(), alpha=0.7, color='Green',width = 4)\n",
    "plt.show()"
   ]
  },
  {
   "cell_type": "code",
   "execution_count": 109,
   "id": "e005c0a5",
   "metadata": {},
   "outputs": [
    {
     "data": {
      "image/png": "[encoded data removed]",
      "text/plain": [
       "<Figure size 432x288 with 1 Axes>"
      ]
     },
     "metadata": {
      "needs_background": "light"
     },
     "output_type": "display_data"
    }
   ],
   "source": [
    "fig, ax = plt.subplots()\n",
    "charged_off = ax.bar(df_after_dropped_cols[df_after_dropped_cols['loan_status']=='Charged Off']['emp_length'].unique(),df_after_dropped_cols[df_after_dropped_cols['loan_status']=='Charged Off']['emp_length'].value_counts(),color='Red',width = .5,align='edge')\n",
    "charged_off.set_label('Charged Off')\n",
    "\n",
    "fully_pay = ax.bar(df_after_dropped_cols[df_after_dropped_cols['loan_status']=='Fully Paid']['emp_length'].unique(),df_after_dropped_cols[df_after_dropped_cols['loan_status']=='Fully Paid']['emp_length'].value_counts(), alpha=0.7, color='Blue',width = -.5,align='edge')\n",
    "fully_pay.set_label('Fully Paid')\n",
    "\n",
    "plt.xticks(df_after_dropped_cols['emp_length'].unique(),rotation=90)\n",
    "plt.legend()\n",
    "plt.show()"
   ]
  },
  {
   "cell_type": "markdown",
   "id": "9427f3b6",
   "metadata": {},
   "source": [
    "The majority of individual who fully paid the loan has preserved their employment status for more than 10 years. However, those who charged off are more likely to have less than a year of employment."
   ]
  },
  {
   "cell_type": "code",
   "execution_count": 114,
   "id": "a92064be",
   "metadata": {},
   "outputs": [
    {
     "data": {
      "image/png": "[encoded data removed]",
      "text/plain": [
       "<Figure size 432x288 with 1 Axes>"
      ]
     },
     "metadata": {
      "needs_background": "light"
     },
     "output_type": "display_data"
    }
   ],
   "source": [
    "#Graph for emp_length feature for defaulters\n",
    "\n",
    "plt.bar(df_after_dropped_cols[df_after_dropped_cols['loan_status']=='Charged Off']['emp_length'].unique(),df_after_dropped_cols[df_after_dropped_cols['loan_status']=='Charged Off']['emp_length'].value_counts(),color='Green',width = .5,align='edge')\n",
    "plt.xticks(rotation=90)\n",
    "plt.show()"
   ]
  },
  {
   "cell_type": "markdown",
   "id": "0e7f4aa2",
   "metadata": {},
   "source": [
    "#### Observation - People on rent and mortgage are more likely to default when compared to the one with own house"
   ]
  },
  {
   "cell_type": "code",
   "execution_count": 815,
   "id": "46306aeb",
   "metadata": {},
   "outputs": [
    {
     "data": {
      "text/plain": [
       "RENT        282\n",
       "MORTGAGE    253\n",
       "OWN          35\n",
       "Name: home_ownership, dtype: int64"
      ]
     },
     "execution_count": 815,
     "metadata": {},
     "output_type": "execute_result"
    }
   ],
   "source": [
    "df_after_dropped_cols[df_after_dropped_cols['loan_status']=='Charged Off'].home_ownership.value_counts()"
   ]
  },
  {
   "cell_type": "code",
   "execution_count": 816,
   "id": "df204d8e",
   "metadata": {},
   "outputs": [
    {
     "data": {
      "text/plain": [
       "<AxesSubplot:xlabel='home_ownership', ylabel='count'>"
      ]
     },
     "execution_count": 816,
     "metadata": {},
     "output_type": "execute_result"
    },
    {
     "data": {
      "image/png": "[encoded data removed]",
      "text/plain": [
       "<Figure size 640x480 with 1 Axes>"
      ]
     },
     "metadata": {},
     "output_type": "display_data"
    }
   ],
   "source": [
    "fig, ax = plt.subplots()\n",
    "sns.countplot(x='home_ownership', data=df_after_dropped_cols[df_after_dropped_cols['loan_status']=='Charged Off'])"
   ]
  },
  {
   "cell_type": "markdown",
   "id": "31b51641",
   "metadata": {},
   "source": [
    "#### Observation - 20% of people with atleast 1 public record bankruptcies couldn't pay the loan while 13% with no public record bankruptcies ended up defaulting"
   ]
  },
  {
   "cell_type": "code",
   "execution_count": 817,
   "id": "405e139a",
   "metadata": {},
   "outputs": [
    {
     "data": {
      "text/plain": [
       "0.0    3983\n",
       "1.0     198\n",
       "2.0       1\n",
       "Name: pub_rec_bankruptcies, dtype: int64"
      ]
     },
     "execution_count": 817,
     "metadata": {},
     "output_type": "execute_result"
    }
   ],
   "source": [
    "df_after_dropped_cols.pub_rec_bankruptcies.value_counts()"
   ]
  },
  {
   "cell_type": "code",
   "execution_count": 818,
   "id": "c21d0561",
   "metadata": {},
   "outputs": [
    {
     "data": {
      "text/plain": [
       "0.0    523\n",
       "1.0     38\n",
       "2.0      1\n",
       "Name: pub_rec_bankruptcies, dtype: int64"
      ]
     },
     "execution_count": 818,
     "metadata": {},
     "output_type": "execute_result"
    }
   ],
   "source": [
    "df_after_dropped_cols.pub_rec_bankruptcies[df_after_dropped_cols['loan_status']=='Charged Off'].value_counts()"
   ]
  },
  {
   "cell_type": "code",
   "execution_count": 820,
   "id": "6a76b9ee",
   "metadata": {},
   "outputs": [
    {
     "data": {
      "text/plain": [
       "<AxesSubplot:xlabel='pub_rec_bankruptcies', ylabel='count'>"
      ]
     },
     "execution_count": 820,
     "metadata": {},
     "output_type": "execute_result"
    },
    {
     "data": {
      "image/png": "[encoded data removed]",
      "text/plain": [
       "<Figure size 640x480 with 1 Axes>"
      ]
     },
     "metadata": {},
     "output_type": "display_data"
    }
   ],
   "source": [
    "fig, ax = plt.subplots()\n",
    "sns.countplot(x='pub_rec_bankruptcies', data=df_after_dropped_cols[df_after_dropped_cols['loan_status']=='Charged Off'])"
   ]
  },
  {
   "cell_type": "markdown",
   "id": "5a43e79f",
   "metadata": {},
   "source": [
    "#### Observation -  People with lower salary is more likely to default. Trend shows people with salary between 40k-70k has around 15% chance to default while the one in higher income group of 70k-85k has 11% chance\n",
    "\n"
   ]
  },
  {
   "cell_type": "code",
   "execution_count": 843,
   "id": "385e1a07",
   "metadata": {},
   "outputs": [
    {
     "data": {
      "text/plain": [
       "40k-55k    232\n",
       "55k-70k    222\n",
       "70k-85k    116\n",
       "Name: annual_inc_bins, dtype: int64"
      ]
     },
     "execution_count": 843,
     "metadata": {},
     "output_type": "execute_result"
    }
   ],
   "source": [
    "df_after_dropped_cols.annual_inc_bins[df_after_dropped_cols['loan_status']=='Charged Off'].value_counts()"
   ]
  },
  {
   "cell_type": "code",
   "execution_count": 840,
   "id": "8b16edec",
   "metadata": {},
   "outputs": [
    {
     "data": {
      "text/plain": [
       "40k-55k    1626\n",
       "55k-70k    1623\n",
       "70k-85k     995\n",
       "Name: annual_inc_bins, dtype: int64"
      ]
     },
     "execution_count": 840,
     "metadata": {},
     "output_type": "execute_result"
    }
   ],
   "source": [
    "df_after_dropped_cols.annual_inc_bins.value_counts()"
   ]
  },
  {
   "cell_type": "code",
   "execution_count": 841,
   "id": "bfe3d9f1",
   "metadata": {},
   "outputs": [
    {
     "data": {
      "text/plain": [
       "<AxesSubplot:xlabel='annual_inc_bins', ylabel='count'>"
      ]
     },
     "execution_count": 841,
     "metadata": {},
     "output_type": "execute_result"
    },
    {
     "data": {
      "image/png": "[encoded data removed]",
      "text/plain": [
       "<Figure size 640x480 with 1 Axes>"
      ]
     },
     "metadata": {},
     "output_type": "display_data"
    }
   ],
   "source": [
    "df_after_dropped_cols['annual_inc_bins'] = pd.cut(df_after_dropped_cols['annual_inc'], bins=3,precision =0,labels =['40k-55k','55k-70k','70k-85k'])\n",
    "fig, ax = plt.subplots()\n",
    "sns.countplot(x='annual_inc_bins', data=df_after_dropped_cols[df_after_dropped_cols.loan_status == 'Charged Off'])"
   ]
  },
  {
   "cell_type": "markdown",
   "id": "ed24900c",
   "metadata": {},
   "source": [
    "#### Observation - Trend shows people with unverified income source are more likely to default."
   ]
  },
  {
   "cell_type": "code",
   "execution_count": 847,
   "id": "d5fc7b3b",
   "metadata": {},
   "outputs": [
    {
     "data": {
      "text/plain": [
       "<AxesSubplot:xlabel='verification_status', ylabel='count'>"
      ]
     },
     "execution_count": 847,
     "metadata": {},
     "output_type": "execute_result"
    },
    {
     "data": {
      "image/png": "[encoded data removed]",
      "text/plain": [
       "<Figure size 640x480 with 1 Axes>"
      ]
     },
     "metadata": {},
     "output_type": "display_data"
    }
   ],
   "source": [
    "sns.countplot(x='verification_status', data=df_after_dropped_cols[df_after_dropped_cols['loan_status']=='Charged Off'])"
   ]
  },
  {
   "cell_type": "code",
   "execution_count": null,
   "id": "a73b242b",
   "metadata": {},
   "outputs": [],
   "source": []
  }
 ],
 "metadata": {
  "kernelspec": {
   "display_name": "Python 3",
   "language": "python",
   "name": "python3"
  },
  "language_info": {
   "codemirror_mode": {
    "name": "ipython",
    "version": 3
   },
   "file_extension": ".py",
   "mimetype": "text/x-python",
   "name": "python",
   "nbconvert_exporter": "python",
   "pygments_lexer": "ipython3",
   "version": "3.8.8"
  }
 },
 "nbformat": 4,
 "nbformat_minor": 5
}
